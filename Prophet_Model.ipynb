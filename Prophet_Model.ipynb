{
 "cells": [
  {
   "cell_type": "code",
   "execution_count": 5,
   "id": "4b2baad1-c2f8-415a-bc88-5722ab52e31b",
   "metadata": {
    "tags": []
   },
   "outputs": [
    {
     "name": "stdout",
     "output_type": "stream",
     "text": [
      "Requirement already satisfied: mpld3 in /opt/conda/lib/python3.7/site-packages (0.5.9)\n",
      "Requirement already satisfied: jinja2 in /opt/conda/lib/python3.7/site-packages (from mpld3) (3.1.2)\n",
      "Requirement already satisfied: matplotlib in /opt/conda/lib/python3.7/site-packages (from mpld3) (3.1.3)\n",
      "Requirement already satisfied: MarkupSafe>=2.0 in /opt/conda/lib/python3.7/site-packages (from jinja2->mpld3) (2.1.3)\n",
      "Requirement already satisfied: cycler>=0.10 in /opt/conda/lib/python3.7/site-packages (from matplotlib->mpld3) (0.10.0)\n",
      "Requirement already satisfied: kiwisolver>=1.0.1 in /opt/conda/lib/python3.7/site-packages (from matplotlib->mpld3) (1.1.0)\n",
      "Requirement already satisfied: pyparsing!=2.0.4,!=2.1.2,!=2.1.6,>=2.0.1 in /opt/conda/lib/python3.7/site-packages (from matplotlib->mpld3) (2.4.6)\n",
      "Requirement already satisfied: python-dateutil>=2.1 in /opt/conda/lib/python3.7/site-packages (from matplotlib->mpld3) (2.8.2)\n",
      "Requirement already satisfied: numpy>=1.11 in /opt/conda/lib/python3.7/site-packages (from matplotlib->mpld3) (1.21.6)\n",
      "Requirement already satisfied: six in /opt/conda/lib/python3.7/site-packages (from cycler>=0.10->matplotlib->mpld3) (1.14.0)\n",
      "Requirement already satisfied: setuptools in /opt/conda/lib/python3.7/site-packages (from kiwisolver>=1.0.1->matplotlib->mpld3) (65.5.1)\n",
      "\u001b[33mDEPRECATION: pyodbc 4.0.0-unsupported has a non-standard version number. pip 23.3 will enforce this behaviour change. A possible replacement is to upgrade to a newer version of pyodbc or contact the author to suggest that they release a version with a conforming version number. Discussion can be found at https://github.com/pypa/pip/issues/12063\u001b[0m\u001b[33m\n",
      "\u001b[0m\u001b[33mWARNING: Running pip as the 'root' user can result in broken permissions and conflicting behaviour with the system package manager. It is recommended to use a virtual environment instead: https://pip.pypa.io/warnings/venv\u001b[0m\u001b[33m\n",
      "\u001b[0mRequirement already satisfied: pip in /opt/conda/lib/python3.7/site-packages (23.2)\n",
      "\u001b[33mDEPRECATION: pyodbc 4.0.0-unsupported has a non-standard version number. pip 23.3 will enforce this behaviour change. A possible replacement is to upgrade to a newer version of pyodbc or contact the author to suggest that they release a version with a conforming version number. Discussion can be found at https://github.com/pypa/pip/issues/12063\u001b[0m\u001b[33m\n",
      "\u001b[0m\u001b[33mWARNING: Running pip as the 'root' user can result in broken permissions and conflicting behaviour with the system package manager. It is recommended to use a virtual environment instead: https://pip.pypa.io/warnings/venv\u001b[0m\u001b[33m\n",
      "\u001b[0mRequirement already satisfied: psycopg2-binary in /opt/conda/lib/python3.7/site-packages (2.9.6)\n",
      "\u001b[33mDEPRECATION: pyodbc 4.0.0-unsupported has a non-standard version number. pip 23.3 will enforce this behaviour change. A possible replacement is to upgrade to a newer version of pyodbc or contact the author to suggest that they release a version with a conforming version number. Discussion can be found at https://github.com/pypa/pip/issues/12063\u001b[0m\u001b[33m\n",
      "\u001b[0m\u001b[33mWARNING: Running pip as the 'root' user can result in broken permissions and conflicting behaviour with the system package manager. It is recommended to use a virtual environment instead: https://pip.pypa.io/warnings/venv\u001b[0m\u001b[33m\n",
      "\u001b[0mCollecting pystan==2.19.1.1\n",
      "  Using cached pystan-2.19.1.1-cp37-cp37m-manylinux1_x86_64.whl (67.3 MB)\n",
      "Collecting prophet\n",
      "  Obtaining dependency information for prophet from https://files.pythonhosted.org/packages/7e/da/408e50ad8ce7dbca81d126377e57897784025647b719534f3529c4b71a9c/prophet-1.1.4-py3-none-manylinux_2_17_x86_64.manylinux2014_x86_64.whl.metadata\n",
      "  Using cached prophet-1.1.4-py3-none-manylinux_2_17_x86_64.manylinux2014_x86_64.whl.metadata (3.6 kB)\n",
      "Requirement already satisfied: Cython!=0.25.1,>=0.22 in /opt/conda/lib/python3.7/site-packages (from pystan==2.19.1.1) (0.29.15)\n",
      "Requirement already satisfied: numpy>=1.7 in /opt/conda/lib/python3.7/site-packages (from pystan==2.19.1.1) (1.21.6)\n",
      "Collecting cmdstanpy>=1.0.4 (from prophet)\n",
      "  Using cached cmdstanpy-1.1.0-py3-none-any.whl (83 kB)\n",
      "Requirement already satisfied: matplotlib>=2.0.0 in /opt/conda/lib/python3.7/site-packages (from prophet) (3.1.3)\n",
      "Requirement already satisfied: pandas>=1.0.4 in /opt/conda/lib/python3.7/site-packages (from prophet) (1.3.5)\n",
      "Collecting LunarCalendar>=0.0.9 (from prophet)\n",
      "  Using cached LunarCalendar-0.0.9-py2.py3-none-any.whl (18 kB)\n",
      "Collecting convertdate>=2.1.2 (from prophet)\n",
      "  Using cached convertdate-2.4.0-py3-none-any.whl (47 kB)\n",
      "Collecting holidays>=0.25 (from prophet)\n",
      "  Obtaining dependency information for holidays>=0.25 from https://files.pythonhosted.org/packages/7b/27/561391c502dc8bf5d931e42284188ef00c078248407b9741d611a6d9674f/holidays-0.27.1-py3-none-any.whl.metadata\n",
      "  Using cached holidays-0.27.1-py3-none-any.whl.metadata (15 kB)\n",
      "Requirement already satisfied: python-dateutil>=2.8.0 in /opt/conda/lib/python3.7/site-packages (from prophet) (2.8.2)\n",
      "Requirement already satisfied: tqdm>=4.36.1 in /opt/conda/lib/python3.7/site-packages (from prophet) (4.42.1)\n",
      "Collecting importlib-resources (from prophet)\n",
      "  Using cached importlib_resources-5.12.0-py3-none-any.whl (36 kB)\n",
      "Collecting pymeeus<=1,>=0.3.13 (from convertdate>=2.1.2->prophet)\n",
      "  Using cached PyMeeus-0.5.12-py3-none-any.whl\n",
      "Collecting ephem>=3.7.5.3 (from LunarCalendar>=0.0.9->prophet)\n",
      "  Using cached ephem-4.1.4-cp37-cp37m-manylinux_2_17_x86_64.manylinux2014_x86_64.whl (1.8 MB)\n",
      "Requirement already satisfied: pytz in /opt/conda/lib/python3.7/site-packages (from LunarCalendar>=0.0.9->prophet) (2019.3)\n",
      "Requirement already satisfied: cycler>=0.10 in /opt/conda/lib/python3.7/site-packages (from matplotlib>=2.0.0->prophet) (0.10.0)\n",
      "Requirement already satisfied: kiwisolver>=1.0.1 in /opt/conda/lib/python3.7/site-packages (from matplotlib>=2.0.0->prophet) (1.1.0)\n",
      "Requirement already satisfied: pyparsing!=2.0.4,!=2.1.2,!=2.1.6,>=2.0.1 in /opt/conda/lib/python3.7/site-packages (from matplotlib>=2.0.0->prophet) (2.4.6)\n",
      "Requirement already satisfied: six>=1.5 in /opt/conda/lib/python3.7/site-packages (from python-dateutil>=2.8.0->prophet) (1.14.0)\n",
      "Collecting zipp>=3.1.0 (from importlib-resources->prophet)\n",
      "  Using cached zipp-3.15.0-py3-none-any.whl (6.8 kB)\n",
      "Requirement already satisfied: setuptools in /opt/conda/lib/python3.7/site-packages (from kiwisolver>=1.0.1->matplotlib>=2.0.0->prophet) (65.5.1)\n",
      "Using cached prophet-1.1.4-py3-none-manylinux_2_17_x86_64.manylinux2014_x86_64.whl (13.0 MB)\n",
      "Using cached holidays-0.27.1-py3-none-any.whl (598 kB)\n",
      "\u001b[33mDEPRECATION: pyodbc 4.0.0-unsupported has a non-standard version number. pip 23.3 will enforce this behaviour change. A possible replacement is to upgrade to a newer version of pyodbc or contact the author to suggest that they release a version with a conforming version number. Discussion can be found at https://github.com/pypa/pip/issues/12063\u001b[0m\u001b[33m\n",
      "\u001b[0mInstalling collected packages: pymeeus, ephem, zipp, pystan, convertdate, LunarCalendar, importlib-resources, holidays, cmdstanpy, prophet\n",
      "  Attempting uninstall: zipp\n",
      "    Found existing installation: zipp 2.2.0\n",
      "    Uninstalling zipp-2.2.0:\n",
      "      Successfully uninstalled zipp-2.2.0\n",
      "\u001b[31mERROR: pip's dependency resolver does not currently take into account all the packages that are installed. This behaviour is the source of the following dependency conflicts.\n",
      "pytest-astropy 0.8.0 requires pytest-cov>=2.0, which is not installed.\n",
      "pytest-astropy 0.8.0 requires pytest-filter-subpackage>=0.1, which is not installed.\n",
      "spyder 4.0.1 requires pyqt5<5.13; python_version >= \"3\", which is not installed.\n",
      "spyder 4.0.1 requires pyqtwebengine<5.13; python_version >= \"3\", which is not installed.\n",
      "python-language-server 0.31.7 requires jedi<0.16,>=0.14.1, but you have jedi 0.18.2 which is incompatible.\n",
      "python-language-server 0.31.7 requires ujson<=1.35; platform_system != \"Windows\", but you have ujson 5.7.0 which is incompatible.\n",
      "sagemaker 2.165.0 requires importlib-metadata<5.0,>=1.4.0, but you have importlib-metadata 6.6.0 which is incompatible.\n",
      "sparkmagic 0.20.4 requires nest-asyncio==1.5.5, but you have nest-asyncio 1.5.6 which is incompatible.\n",
      "spyder 4.0.1 requires jedi==0.14.1, but you have jedi 0.18.2 which is incompatible.\u001b[0m\u001b[31m\n",
      "\u001b[0mSuccessfully installed LunarCalendar-0.0.9 cmdstanpy-1.1.0 convertdate-2.4.0 ephem-4.1.4 holidays-0.27.1 importlib-resources-5.12.0 prophet-1.1.4 pymeeus-0.5.12 pystan-2.19.1.1 zipp-3.15.0\n",
      "\u001b[33mWARNING: Running pip as the 'root' user can result in broken permissions and conflicting behaviour with the system package manager. It is recommended to use a virtual environment instead: https://pip.pypa.io/warnings/venv\u001b[0m\u001b[33m\n",
      "\u001b[0m"
     ]
    }
   ],
   "source": [
    "!pip install mpld3\n",
    "!pip install --upgrade pip\n",
    "!pip install psycopg2-binary\n",
    "!pip install pystan==2.19.1.1 prophet"
   ]
  },
  {
   "cell_type": "code",
   "execution_count": 6,
   "id": "b4738a1e-ee23-4ac5-9f87-b048d803a8c6",
   "metadata": {
    "tags": []
   },
   "outputs": [],
   "source": [
    "#Import Python Packages\n",
    "import matplotlib as mpl\n",
    "import matplotlib.pyplot as plt\n",
    "import numpy as np\n",
    "import os\n",
    "from datetime import datetime\n",
    "import pandas as pd\n",
    "from datetime import datetime, timedelta\n",
    "import time\n",
    "import psycopg2\n",
    "import boto3\n",
    "from prophet import Prophet\n",
    "\n",
    "mpl.rcParams['figure.figsize'] = (10, 8)\n",
    "mpl.rcParams['axes.grid'] = False\n",
    "import mpld3\n",
    "mpld3.enable_notebook()"
   ]
  },
  {
   "cell_type": "code",
   "execution_count": 7,
   "id": "47c06e6e-5284-4f6e-b132-16a82f483dd0",
   "metadata": {
    "tags": []
   },
   "outputs": [],
   "source": [
    "# Put the ARN of your AWS Secrets Manager secret for your redshift cluster here:\n",
    "secret_name=\"arn:aws:secretsmanager:us-west-2:451614664738:secret:ForecastingSecret-JRCdLL\"\n",
    "\n",
    "# This will get the secret from AWS Secrets Manager. \n",
    "import boto3\n",
    "import json\n",
    "\n",
    "session = boto3.session.Session()\n",
    "client = session.client(\n",
    "    service_name='secretsmanager'\n",
    ")\n",
    "\n",
    "get_secret_value_response = client.get_secret_value(\n",
    "    SecretId=secret_name\n",
    ")\n",
    "\n",
    "if 'SecretString' in get_secret_value_response:\n",
    "    connection_info = json.loads(get_secret_value_response['SecretString'])\n",
    "else:\n",
    "    print(\"ERROR: no secret data found\")"
   ]
  },
  {
   "cell_type": "code",
   "execution_count": 8,
   "id": "4ab53f9b-475a-4b53-84a2-287f03b09922",
   "metadata": {
    "tags": []
   },
   "outputs": [],
   "source": [
    "#Assign a variable that contains a string of your credentials\n",
    "credentials=psycopg2.connect(\n",
    "    dbname   = 'exelredshift', \n",
    "    host     = connection_info[\"host\"], \n",
    "    port     = connection_info[\"port\"], \n",
    "    user     = connection_info[\"username\"], \n",
    "    password = connection_info[\"password\"]\n",
    ")"
   ]
  },
  {
   "cell_type": "code",
   "execution_count": 10,
   "id": "2ff8ba0f-1e08-462b-a2e0-4c6107ba35a9",
   "metadata": {
    "tags": []
   },
   "outputs": [],
   "source": [
    "# read in your SQL query results using pandas\n",
    "df = pd.read_sql(\"\"\"\n",
    "            select * from edm.bl_cabo_rcc_hcc_nps\n",
    "            \"\"\", con = credentials)\n"
   ]
  },
  {
   "cell_type": "code",
   "execution_count": 7,
   "id": "307e8f88-e9ae-48cd-8f08-0611f0993215",
   "metadata": {
    "tags": []
   },
   "outputs": [],
   "source": [
    "selection_rcc_comm = df[['week_ending_dt','projected_sp_rcc_sales','projected_sd_rcc_sales']]\n",
    "selection_hcc_comm = df[['week_ending_dt','projected_sp_hcc_sales','projected_sd_hcc_sales']]\n",
    "selection_dtc_comm = df[['week_ending_dt','projected_sp_thy_sales','projected_sd_thy_sales']]\n",
    "selection_ease = df[['week_ending_dt','projected_ease_rcc_sales','projected_ease_hcc_sales','projected_ease_thy_sales']]"
   ]
  },
  {
   "cell_type": "code",
   "execution_count": 8,
   "id": "58e5b2c8-f5e2-4fec-ac01-fab7f57639ed",
   "metadata": {
    "tags": []
   },
   "outputs": [],
   "source": [
    "\n",
    "sorted_data_rcc_comm= selection_rcc_comm.sort_values(by='week_ending_dt')\n",
    "sorted_data_hcc_comm= selection_hcc_comm.sort_values(by='week_ending_dt')\n",
    "sorted_data_dtc_comm= selection_dtc_comm.sort_values(by='week_ending_dt')\n",
    "sorted_data_ease = selection_ease.sort_values(by='week_ending_dt')\n"
   ]
  },
  {
   "cell_type": "code",
   "execution_count": 9,
   "id": "3e3c1603-5dbd-4153-b4db-456daa9d6c9c",
   "metadata": {
    "tags": []
   },
   "outputs": [],
   "source": [
    "rcc_agg_df= sorted_data_rcc_comm.groupby([\"week_ending_dt\"]).sum()\n",
    "hcc_agg_df= sorted_data_hcc_comm.groupby([\"week_ending_dt\"]).sum()\n",
    "dtc_agg_df= sorted_data_dtc_comm.groupby([\"week_ending_dt\"]).sum()\n",
    "ease_agg_df= sorted_data_ease.groupby([\"week_ending_dt\"]).sum()\n"
   ]
  },
  {
   "cell_type": "code",
   "execution_count": 10,
   "id": "4f0f8d78-0919-4582-808c-8eab85717cec",
   "metadata": {
    "tags": []
   },
   "outputs": [],
   "source": [
    "rcc_agg_sorted = rcc_agg_df.sort_values(by='week_ending_dt')\n",
    "hcc_agg_sorted = hcc_agg_df.sort_values(by='week_ending_dt')\n",
    "dtc_agg_sorted = dtc_agg_df.sort_values(by='week_ending_dt')\n",
    "ease_agg_sorted = ease_agg_df.sort_values(by='week_ending_dt')"
   ]
  },
  {
   "cell_type": "code",
   "execution_count": 11,
   "id": "166b3307-cdc2-40af-9e62-1a2f2e02f68b",
   "metadata": {
    "tags": []
   },
   "outputs": [],
   "source": [
    "rcc_dfn= rcc_agg_sorted.reset_index()\n",
    "hcc_dfn= hcc_agg_sorted.reset_index()\n",
    "dtc_dfn= dtc_agg_sorted.reset_index()\n",
    "ease_dfn= ease_agg_sorted.reset_index()"
   ]
  },
  {
   "cell_type": "code",
   "execution_count": 12,
   "id": "eda0dfe4-1f41-42ff-94aa-db65753e1638",
   "metadata": {
    "tags": []
   },
   "outputs": [],
   "source": [
    "\n",
    "rcc_dfn['y'] = rcc_dfn['projected_sp_rcc_sales']+ rcc_dfn['projected_sd_rcc_sales']\n",
    "hcc_dfn['y'] = hcc_dfn['projected_sp_hcc_sales']+ hcc_dfn['projected_sd_hcc_sales']\n",
    "dtc_dfn['y'] = dtc_dfn['projected_sp_thy_sales']+ dtc_dfn['projected_sd_thy_sales']\n",
    "ease_dfn['y'] = ease_dfn['projected_ease_rcc_sales']+ ease_dfn['projected_ease_hcc_sales']+ ease_dfn['projected_ease_thy_sales']\n",
    "\n"
   ]
  },
  {
   "cell_type": "code",
   "execution_count": 13,
   "id": "ac114835-187a-4894-8e65-9aa027dc7275",
   "metadata": {
    "tags": []
   },
   "outputs": [],
   "source": [
    "\n",
    "rcc_new_dfn= rcc_dfn[['week_ending_dt', 'y']]\n",
    "hcc_new_dfn= hcc_dfn[['week_ending_dt', 'y']]\n",
    "dtc_new_dfn= dtc_dfn[['week_ending_dt', 'y']]\n",
    "ease_new_dfn= ease_dfn[['week_ending_dt', 'y']]\n"
   ]
  },
  {
   "cell_type": "code",
   "execution_count": 14,
   "id": "b7f7f7d7-3b85-4944-8c57-91dd7415127c",
   "metadata": {
    "tags": []
   },
   "outputs": [
    {
     "name": "stderr",
     "output_type": "stream",
     "text": [
      "/opt/conda/lib/python3.7/site-packages/ipykernel_launcher.py:2: SettingWithCopyWarning: \n",
      "A value is trying to be set on a copy of a slice from a DataFrame.\n",
      "Try using .loc[row_indexer,col_indexer] = value instead\n",
      "\n",
      "See the caveats in the documentation: https://pandas.pydata.org/pandas-docs/stable/user_guide/indexing.html#returning-a-view-versus-a-copy\n",
      "  \n",
      "/opt/conda/lib/python3.7/site-packages/ipykernel_launcher.py:3: SettingWithCopyWarning: \n",
      "A value is trying to be set on a copy of a slice from a DataFrame.\n",
      "Try using .loc[row_indexer,col_indexer] = value instead\n",
      "\n",
      "See the caveats in the documentation: https://pandas.pydata.org/pandas-docs/stable/user_guide/indexing.html#returning-a-view-versus-a-copy\n",
      "  This is separate from the ipykernel package so we can avoid doing imports until\n",
      "/opt/conda/lib/python3.7/site-packages/ipykernel_launcher.py:4: SettingWithCopyWarning: \n",
      "A value is trying to be set on a copy of a slice from a DataFrame.\n",
      "Try using .loc[row_indexer,col_indexer] = value instead\n",
      "\n",
      "See the caveats in the documentation: https://pandas.pydata.org/pandas-docs/stable/user_guide/indexing.html#returning-a-view-versus-a-copy\n",
      "  after removing the cwd from sys.path.\n",
      "/opt/conda/lib/python3.7/site-packages/ipykernel_launcher.py:5: SettingWithCopyWarning: \n",
      "A value is trying to be set on a copy of a slice from a DataFrame.\n",
      "Try using .loc[row_indexer,col_indexer] = value instead\n",
      "\n",
      "See the caveats in the documentation: https://pandas.pydata.org/pandas-docs/stable/user_guide/indexing.html#returning-a-view-versus-a-copy\n",
      "  \"\"\"\n"
     ]
    }
   ],
   "source": [
    "#Convert to datetime format\n",
    "rcc_new_dfn['ds'] = pd.to_datetime(rcc_new_dfn['week_ending_dt'])\n",
    "hcc_new_dfn['ds'] = pd.to_datetime(hcc_new_dfn['week_ending_dt'])\n",
    "dtc_new_dfn['ds'] = pd.to_datetime(dtc_new_dfn['week_ending_dt'])\n",
    "ease_new_dfn['ds'] = pd.to_datetime(ease_new_dfn['week_ending_dt'])"
   ]
  },
  {
   "cell_type": "code",
   "execution_count": 15,
   "id": "42afad66-e156-4821-ae07-352805a0564d",
   "metadata": {
    "tags": []
   },
   "outputs": [
    {
     "data": {
      "text/html": [
       "<div>\n",
       "<style scoped>\n",
       "    .dataframe tbody tr th:only-of-type {\n",
       "        vertical-align: middle;\n",
       "    }\n",
       "\n",
       "    .dataframe tbody tr th {\n",
       "        vertical-align: top;\n",
       "    }\n",
       "\n",
       "    .dataframe thead th {\n",
       "        text-align: right;\n",
       "    }\n",
       "</style>\n",
       "<table border=\"1\" class=\"dataframe\">\n",
       "  <thead>\n",
       "    <tr style=\"text-align: right;\">\n",
       "      <th></th>\n",
       "      <th>index</th>\n",
       "      <th>week_ending_dt</th>\n",
       "      <th>y</th>\n",
       "      <th>ds</th>\n",
       "    </tr>\n",
       "  </thead>\n",
       "  <tbody>\n",
       "    <tr>\n",
       "      <th>0</th>\n",
       "      <td>0</td>\n",
       "      <td>2018-01-05</td>\n",
       "      <td>15.50</td>\n",
       "      <td>2018-01-05</td>\n",
       "    </tr>\n",
       "    <tr>\n",
       "      <th>1</th>\n",
       "      <td>1</td>\n",
       "      <td>2018-01-12</td>\n",
       "      <td>41.50</td>\n",
       "      <td>2018-01-12</td>\n",
       "    </tr>\n",
       "    <tr>\n",
       "      <th>2</th>\n",
       "      <td>2</td>\n",
       "      <td>2018-01-19</td>\n",
       "      <td>37.97</td>\n",
       "      <td>2018-01-19</td>\n",
       "    </tr>\n",
       "    <tr>\n",
       "      <th>3</th>\n",
       "      <td>3</td>\n",
       "      <td>2018-01-26</td>\n",
       "      <td>38.96</td>\n",
       "      <td>2018-01-26</td>\n",
       "    </tr>\n",
       "    <tr>\n",
       "      <th>4</th>\n",
       "      <td>4</td>\n",
       "      <td>2018-02-02</td>\n",
       "      <td>69.50</td>\n",
       "      <td>2018-02-02</td>\n",
       "    </tr>\n",
       "    <tr>\n",
       "      <th>...</th>\n",
       "      <td>...</td>\n",
       "      <td>...</td>\n",
       "      <td>...</td>\n",
       "      <td>...</td>\n",
       "    </tr>\n",
       "    <tr>\n",
       "      <th>285</th>\n",
       "      <td>285</td>\n",
       "      <td>2023-06-23</td>\n",
       "      <td>155.50</td>\n",
       "      <td>2023-06-23</td>\n",
       "    </tr>\n",
       "    <tr>\n",
       "      <th>286</th>\n",
       "      <td>286</td>\n",
       "      <td>2023-06-30</td>\n",
       "      <td>195.50</td>\n",
       "      <td>2023-06-30</td>\n",
       "    </tr>\n",
       "    <tr>\n",
       "      <th>287</th>\n",
       "      <td>287</td>\n",
       "      <td>2023-07-07</td>\n",
       "      <td>149.00</td>\n",
       "      <td>2023-07-07</td>\n",
       "    </tr>\n",
       "    <tr>\n",
       "      <th>288</th>\n",
       "      <td>288</td>\n",
       "      <td>2023-07-14</td>\n",
       "      <td>160.50</td>\n",
       "      <td>2023-07-14</td>\n",
       "    </tr>\n",
       "    <tr>\n",
       "      <th>289</th>\n",
       "      <td>289</td>\n",
       "      <td>2023-07-21</td>\n",
       "      <td>0.00</td>\n",
       "      <td>2023-07-21</td>\n",
       "    </tr>\n",
       "  </tbody>\n",
       "</table>\n",
       "<p>290 rows × 4 columns</p>\n",
       "</div>"
      ],
      "text/plain": [
       "     index week_ending_dt       y         ds\n",
       "0        0     2018-01-05   15.50 2018-01-05\n",
       "1        1     2018-01-12   41.50 2018-01-12\n",
       "2        2     2018-01-19   37.97 2018-01-19\n",
       "3        3     2018-01-26   38.96 2018-01-26\n",
       "4        4     2018-02-02   69.50 2018-02-02\n",
       "..     ...            ...     ...        ...\n",
       "285    285     2023-06-23  155.50 2023-06-23\n",
       "286    286     2023-06-30  195.50 2023-06-30\n",
       "287    287     2023-07-07  149.00 2023-07-07\n",
       "288    288     2023-07-14  160.50 2023-07-14\n",
       "289    289     2023-07-21    0.00 2023-07-21\n",
       "\n",
       "[290 rows x 4 columns]"
      ]
     },
     "execution_count": 15,
     "metadata": {},
     "output_type": "execute_result"
    }
   ],
   "source": [
    "rcc_sorted_dfn= rcc_new_dfn.sort_values(by='week_ending_dt')\n",
    "rcc_sorted_dfn.reset_index()\n",
    "\n",
    "hcc_sorted_dfn= hcc_new_dfn.sort_values(by='week_ending_dt')\n",
    "hcc_sorted_dfn.reset_index()\n",
    "\n",
    "dtc_sorted_dfn= dtc_new_dfn.sort_values(by='week_ending_dt')\n",
    "dtc_sorted_dfn.reset_index()\n",
    "\n",
    "ease_sorted_dfn= ease_new_dfn.sort_values(by='week_ending_dt')\n",
    "ease_sorted_dfn.reset_index()"
   ]
  },
  {
   "cell_type": "code",
   "execution_count": 16,
   "id": "7c273176-5237-4e44-b885-d64082d7acec",
   "metadata": {
    "tags": []
   },
   "outputs": [],
   "source": [
    "rcc_master_dataframe_comm= rcc_sorted_dfn[['ds','y']]\n",
    "hcc_master_dataframe_comm= hcc_sorted_dfn[['ds','y']]\n",
    "dtc_master_dataframe_comm= dtc_sorted_dfn[['ds','y']]\n",
    "ease_master_dataframe_comm= ease_sorted_dfn[['ds','y']]"
   ]
  },
  {
   "cell_type": "code",
   "execution_count": 17,
   "id": "017122f0-0cce-4019-a925-1fd6c376e26a",
   "metadata": {
    "tags": []
   },
   "outputs": [
    {
     "name": "stderr",
     "output_type": "stream",
     "text": [
      "/opt/conda/lib/python3.7/site-packages/ipykernel_launcher.py:1: SettingWithCopyWarning: \n",
      "A value is trying to be set on a copy of a slice from a DataFrame.\n",
      "Try using .loc[row_indexer,col_indexer] = value instead\n",
      "\n",
      "See the caveats in the documentation: https://pandas.pydata.org/pandas-docs/stable/user_guide/indexing.html#returning-a-view-versus-a-copy\n",
      "  \"\"\"Entry point for launching an IPython kernel.\n",
      "/opt/conda/lib/python3.7/site-packages/ipykernel_launcher.py:2: SettingWithCopyWarning: \n",
      "A value is trying to be set on a copy of a slice from a DataFrame.\n",
      "Try using .loc[row_indexer,col_indexer] = value instead\n",
      "\n",
      "See the caveats in the documentation: https://pandas.pydata.org/pandas-docs/stable/user_guide/indexing.html#returning-a-view-versus-a-copy\n",
      "  \n",
      "/opt/conda/lib/python3.7/site-packages/ipykernel_launcher.py:3: SettingWithCopyWarning: \n",
      "A value is trying to be set on a copy of a slice from a DataFrame.\n",
      "Try using .loc[row_indexer,col_indexer] = value instead\n",
      "\n",
      "See the caveats in the documentation: https://pandas.pydata.org/pandas-docs/stable/user_guide/indexing.html#returning-a-view-versus-a-copy\n",
      "  This is separate from the ipykernel package so we can avoid doing imports until\n",
      "/opt/conda/lib/python3.7/site-packages/ipykernel_launcher.py:4: SettingWithCopyWarning: \n",
      "A value is trying to be set on a copy of a slice from a DataFrame.\n",
      "Try using .loc[row_indexer,col_indexer] = value instead\n",
      "\n",
      "See the caveats in the documentation: https://pandas.pydata.org/pandas-docs/stable/user_guide/indexing.html#returning-a-view-versus-a-copy\n",
      "  after removing the cwd from sys.path.\n"
     ]
    }
   ],
   "source": [
    "rcc_master_dataframe_comm['y'] = rcc_master_dataframe_comm['y'].apply(np.ceil)\n",
    "hcc_master_dataframe_comm['y'] = hcc_master_dataframe_comm['y'].apply(np.ceil)\n",
    "dtc_master_dataframe_comm['y'] = dtc_master_dataframe_comm['y'].apply(np.ceil)\n",
    "ease_master_dataframe_comm['y'] = ease_master_dataframe_comm['y'].apply(np.ceil)"
   ]
  },
  {
   "cell_type": "code",
   "execution_count": 18,
   "id": "df0650aa-e9cb-49e7-9758-5779f254cb5e",
   "metadata": {
    "tags": []
   },
   "outputs": [],
   "source": [
    "rcc_master_dataframe_comm = rcc_master_dataframe_comm.astype({\"y\": int})\n",
    "hcc_master_dataframe_comm = hcc_master_dataframe_comm.astype({\"y\": int})\n",
    "dtc_master_dataframe_comm = dtc_master_dataframe_comm.astype({\"y\": int})\n",
    "ease_master_dataframe_comm = ease_master_dataframe_comm.astype({\"y\": int})"
   ]
  },
  {
   "cell_type": "code",
   "execution_count": 19,
   "id": "578a6dfd-f21c-4bcf-9111-21672519f2c0",
   "metadata": {
    "tags": []
   },
   "outputs": [],
   "source": [
    "rcc_master_dataframe_cabo = rcc_master_dataframe_comm[['ds','y']]\n",
    "hcc_master_dataframe_cabo = hcc_master_dataframe_comm[['ds','y']]\n",
    "dtc_master_dataframe_cabo = dtc_master_dataframe_comm[['ds','y']]\n",
    "ease_master_dataframe_cabo = ease_master_dataframe_comm[['ds','y']]"
   ]
  },
  {
   "cell_type": "code",
   "execution_count": 20,
   "id": "0263a020-6682-4b9e-b40d-a4e40b35c8b3",
   "metadata": {
    "tags": []
   },
   "outputs": [],
   "source": [
    "rcc_master_dataframe_cabo['date']=pd.to_datetime(rcc_master_dataframe_cabo['ds'])\n",
    "hcc_master_dataframe_cabo['date']=pd.to_datetime(hcc_master_dataframe_cabo['ds'])\n",
    "dtc_master_dataframe_cabo['date']=pd.to_datetime(dtc_master_dataframe_cabo['ds'])\n",
    "ease_master_dataframe_cabo['date']=pd.to_datetime(ease_master_dataframe_cabo['ds'])"
   ]
  },
  {
   "cell_type": "code",
   "execution_count": 21,
   "id": "6e07fab3-0c7e-419e-bb5e-7925464c310f",
   "metadata": {
    "tags": []
   },
   "outputs": [],
   "source": [
    "rcc_new_df1 = rcc_master_dataframe_cabo[rcc_master_dataframe_cabo['ds'] > '2021-01-01']\n",
    "hcc_new_df1 = hcc_master_dataframe_cabo[hcc_master_dataframe_cabo['ds'] > '2021-01-01']\n",
    "dtc_new_df1 = dtc_master_dataframe_cabo[dtc_master_dataframe_cabo['ds'] > '2021-01-01']\n",
    "ease_new_df1 = ease_master_dataframe_cabo[ease_master_dataframe_cabo['ds'] > '2021-01-01']"
   ]
  },
  {
   "cell_type": "code",
   "execution_count": 22,
   "id": "cfdd906c-cf99-44b8-a901-3d02cb3fec94",
   "metadata": {
    "tags": []
   },
   "outputs": [],
   "source": [
    "#Set date column as the index\n",
    "rcc_new_df =rcc_new_df1.set_index('date')\n",
    "hcc_new_df =hcc_new_df1.set_index('date')\n",
    "dtc_new_df =dtc_new_df1.set_index('date')\n",
    "ease_new_df =ease_new_df1.set_index('date')"
   ]
  },
  {
   "cell_type": "code",
   "execution_count": 23,
   "id": "185e5206-27ea-4863-ad9b-628aa4356ea7",
   "metadata": {
    "tags": []
   },
   "outputs": [],
   "source": [
    "rcc_a = rcc_master_dataframe_cabo.tail(1)\n",
    "hcc_a = hcc_master_dataframe_cabo.tail(1)\n",
    "dtc_a = dtc_master_dataframe_cabo.tail(1)\n",
    "ease_a = ease_master_dataframe_cabo.tail(1)"
   ]
  },
  {
   "cell_type": "code",
   "execution_count": 24,
   "id": "a7ff4ce8-0220-4b39-8de6-c694a301eb93",
   "metadata": {
    "tags": []
   },
   "outputs": [],
   "source": [
    "\n",
    "rcc_train  = rcc_new_df[(rcc_new_df.index.get_level_values(0) >= rcc_a['ds'].iloc[0] - timedelta(days=728) ) & (rcc_new_df.index.get_level_values(0) < rcc_a['ds'].iloc[0])]\n",
    "\n",
    "hcc_train  = hcc_new_df[(hcc_new_df.index.get_level_values(0) >= hcc_a['ds'].iloc[0] - timedelta(days=728) ) & (hcc_new_df.index.get_level_values(0) < hcc_a['ds'].iloc[0])]\n",
    "\n",
    "dtc_train  = dtc_new_df[(dtc_new_df.index.get_level_values(0) >= dtc_a['ds'].iloc[0] - timedelta(days=728) ) & (dtc_new_df.index.get_level_values(0) < dtc_a['ds'].iloc[0])]\n",
    "\n",
    "ease_train = ease_new_df[(ease_new_df.index.get_level_values(0) >= ease_a['ds'].iloc[0] - timedelta(days=728) ) & (ease_new_df.index.get_level_values(0) < ease_a['ds'].iloc[0])]\n"
   ]
  },
  {
   "cell_type": "code",
   "execution_count": 25,
   "id": "cfc0d4fc-a830-4baa-8dcd-f009952534af",
   "metadata": {
    "tags": []
   },
   "outputs": [],
   "source": [
    "from datetime import date\n",
    "a = date(date.today().year, 1, 1)\n",
    "b = date(date.today().year, 12, 31)"
   ]
  },
  {
   "cell_type": "code",
   "execution_count": 26,
   "id": "65350852-8e59-472a-b11c-ad24eb82cf41",
   "metadata": {
    "tags": []
   },
   "outputs": [
    {
     "name": "stderr",
     "output_type": "stream",
     "text": [
      "19:30:32 - cmdstanpy - INFO - Chain [1] start processing\n",
      "19:30:32 - cmdstanpy - INFO - Chain [1] done processing\n"
     ]
    }
   ],
   "source": [
    "#RCC MODEL\n",
    "\n",
    "rcc_model =rcc_train[['ds','y']]\n",
    "rcc_m = Prophet(interval_width=0.95)\n",
    "rcc_m.fit(rcc_model)\n",
    "\n",
    "d0= b\n",
    "d1=pd.to_datetime(d0)\n",
    "d2=rcc_train['ds'].tail(1).iloc[0]\n",
    "delta = d1 - d2\n",
    "p= delta.days/7\n",
    "P=round(p)\n",
    "\n",
    "future = rcc_m.make_future_dataframe(periods=P, freq='W-FRI')\n",
    "future\n",
    "\n",
    "forecastr = rcc_m.predict(future)\n",
    "rccforecast= forecastr[['ds', 'yhat']]"
   ]
  },
  {
   "cell_type": "code",
   "execution_count": 27,
   "id": "8c6ca67c-c54e-49b3-a006-69e76110fce7",
   "metadata": {
    "tags": []
   },
   "outputs": [
    {
     "name": "stderr",
     "output_type": "stream",
     "text": [
      "19:30:32 - cmdstanpy - INFO - Chain [1] start processing\n",
      "19:30:32 - cmdstanpy - INFO - Chain [1] done processing\n"
     ]
    }
   ],
   "source": [
    "#HCC MODEL\n",
    "\n",
    "hcc_model =hcc_train[['ds','y']]\n",
    "hcc_m = Prophet(interval_width=0.95)\n",
    "hcc_m.fit(hcc_model)\n",
    "\n",
    "d0=b\n",
    "d1=pd.to_datetime(d0)\n",
    "d2=hcc_train['ds'].tail(1).iloc[0]\n",
    "delta = d1 - d2\n",
    "p= delta.days/7\n",
    "P=round(p)\n",
    "\n",
    "future = hcc_m.make_future_dataframe(periods=P, freq='W-FRI')\n",
    "future\n",
    "\n",
    "forecasth = hcc_m.predict(future)\n",
    "hccforecast= forecasth[['ds', 'yhat']]"
   ]
  },
  {
   "cell_type": "code",
   "execution_count": 28,
   "id": "4371190b-73af-41a6-86e9-daca448ff637",
   "metadata": {
    "tags": []
   },
   "outputs": [
    {
     "name": "stderr",
     "output_type": "stream",
     "text": [
      "19:30:32 - cmdstanpy - INFO - Chain [1] start processing\n",
      "19:30:32 - cmdstanpy - INFO - Chain [1] done processing\n"
     ]
    }
   ],
   "source": [
    "#DTC MODEL\n",
    "\n",
    "dtc_model =dtc_train[['ds','y']]\n",
    "dtc_m = Prophet(interval_width=0.95)\n",
    "dtc_m.fit(dtc_model)\n",
    "\n",
    "d0=b\n",
    "d1=pd.to_datetime(d0)\n",
    "d2=dtc_train['ds'].tail(1).iloc[0]\n",
    "delta = d1 - d2\n",
    "p= delta.days/7\n",
    "P=round(p)\n",
    "\n",
    "future = dtc_m.make_future_dataframe(periods=P, freq='W-FRI')\n",
    "future\n",
    "\n",
    "forecastd = dtc_m.predict(future)\n",
    "dtcforecast= forecastd[['ds', 'yhat']]"
   ]
  },
  {
   "cell_type": "code",
   "execution_count": 29,
   "id": "1ff3c58a-c5e4-4789-98ac-a1144f3d5c04",
   "metadata": {
    "tags": []
   },
   "outputs": [
    {
     "name": "stderr",
     "output_type": "stream",
     "text": [
      "19:30:33 - cmdstanpy - INFO - Chain [1] start processing\n",
      "19:30:33 - cmdstanpy - INFO - Chain [1] done processing\n"
     ]
    }
   ],
   "source": [
    "#EASE MODEL\n",
    "\n",
    "ease_model =ease_train[['ds','y']]\n",
    "ease_m = Prophet(interval_width=0.95)\n",
    "ease_m.fit(ease_model)\n",
    "\n",
    "d0=b\n",
    "d1=pd.to_datetime(d0)\n",
    "d2=ease_train['ds'].tail(1).iloc[0]\n",
    "delta = d1 - d2\n",
    "p= delta.days/7\n",
    "P=round(p)\n",
    "\n",
    "future = ease_m.make_future_dataframe(periods=P, freq='W-FRI')\n",
    "future\n",
    "\n",
    "forecast = ease_m.predict(future)\n",
    "easeforecast= forecast[['ds', 'yhat']]"
   ]
  },
  {
   "cell_type": "code",
   "execution_count": 30,
   "id": "4fe928a4-9473-4e2d-9af9-f7a1fa9044b8",
   "metadata": {
    "tags": []
   },
   "outputs": [],
   "source": [
    "rcc_forecast = rccforecast[rccforecast['ds'] >= rcc_a['ds'].iloc[0]]\n",
    "hcc_forecast = hccforecast[rccforecast['ds'] >= hcc_a['ds'].iloc[0]]\n",
    "dtc_forecast = dtcforecast[rccforecast['ds'] >= dtc_a['ds'].iloc[0]]\n",
    "ease_forecast = easeforecast[rccforecast['ds'] >= ease_a['ds'].iloc[0]]"
   ]
  },
  {
   "cell_type": "code",
   "execution_count": 31,
   "id": "bec9e125-bc85-4d88-8501-84c8181ae390",
   "metadata": {},
   "outputs": [
    {
     "name": "stderr",
     "output_type": "stream",
     "text": [
      "/opt/conda/lib/python3.7/site-packages/pandas/core/frame.py:5047: SettingWithCopyWarning: \n",
      "A value is trying to be set on a copy of a slice from a DataFrame\n",
      "\n",
      "See the caveats in the documentation: https://pandas.pydata.org/pandas-docs/stable/user_guide/indexing.html#returning-a-view-versus-a-copy\n",
      "  errors=errors,\n"
     ]
    },
    {
     "data": {
      "text/html": [
       "<div>\n",
       "<style scoped>\n",
       "    .dataframe tbody tr th:only-of-type {\n",
       "        vertical-align: middle;\n",
       "    }\n",
       "\n",
       "    .dataframe tbody tr th {\n",
       "        vertical-align: top;\n",
       "    }\n",
       "\n",
       "    .dataframe thead th {\n",
       "        text-align: right;\n",
       "    }\n",
       "</style>\n",
       "<table border=\"1\" class=\"dataframe\">\n",
       "  <thead>\n",
       "    <tr style=\"text-align: right;\">\n",
       "      <th></th>\n",
       "      <th>Prediction</th>\n",
       "    </tr>\n",
       "    <tr>\n",
       "      <th>ds</th>\n",
       "      <th></th>\n",
       "    </tr>\n",
       "  </thead>\n",
       "  <tbody>\n",
       "    <tr>\n",
       "      <th>2023-07-21</th>\n",
       "      <td>147.029617</td>\n",
       "    </tr>\n",
       "    <tr>\n",
       "      <th>2023-07-28</th>\n",
       "      <td>147.391194</td>\n",
       "    </tr>\n",
       "    <tr>\n",
       "      <th>2023-08-04</th>\n",
       "      <td>147.752770</td>\n",
       "    </tr>\n",
       "    <tr>\n",
       "      <th>2023-08-11</th>\n",
       "      <td>148.114347</td>\n",
       "    </tr>\n",
       "    <tr>\n",
       "      <th>2023-08-18</th>\n",
       "      <td>148.475923</td>\n",
       "    </tr>\n",
       "    <tr>\n",
       "      <th>2023-08-25</th>\n",
       "      <td>148.837500</td>\n",
       "    </tr>\n",
       "    <tr>\n",
       "      <th>2023-09-01</th>\n",
       "      <td>149.199076</td>\n",
       "    </tr>\n",
       "    <tr>\n",
       "      <th>2023-09-08</th>\n",
       "      <td>149.560653</td>\n",
       "    </tr>\n",
       "    <tr>\n",
       "      <th>2023-09-15</th>\n",
       "      <td>149.922230</td>\n",
       "    </tr>\n",
       "    <tr>\n",
       "      <th>2023-09-22</th>\n",
       "      <td>150.283806</td>\n",
       "    </tr>\n",
       "    <tr>\n",
       "      <th>2023-09-29</th>\n",
       "      <td>150.645383</td>\n",
       "    </tr>\n",
       "    <tr>\n",
       "      <th>2023-10-06</th>\n",
       "      <td>151.006959</td>\n",
       "    </tr>\n",
       "    <tr>\n",
       "      <th>2023-10-13</th>\n",
       "      <td>151.368536</td>\n",
       "    </tr>\n",
       "    <tr>\n",
       "      <th>2023-10-20</th>\n",
       "      <td>151.730112</td>\n",
       "    </tr>\n",
       "    <tr>\n",
       "      <th>2023-10-27</th>\n",
       "      <td>152.091689</td>\n",
       "    </tr>\n",
       "    <tr>\n",
       "      <th>2023-11-03</th>\n",
       "      <td>152.453265</td>\n",
       "    </tr>\n",
       "    <tr>\n",
       "      <th>2023-11-10</th>\n",
       "      <td>152.814842</td>\n",
       "    </tr>\n",
       "    <tr>\n",
       "      <th>2023-11-17</th>\n",
       "      <td>153.176418</td>\n",
       "    </tr>\n",
       "    <tr>\n",
       "      <th>2023-11-24</th>\n",
       "      <td>153.537995</td>\n",
       "    </tr>\n",
       "    <tr>\n",
       "      <th>2023-12-01</th>\n",
       "      <td>153.899571</td>\n",
       "    </tr>\n",
       "    <tr>\n",
       "      <th>2023-12-08</th>\n",
       "      <td>154.261148</td>\n",
       "    </tr>\n",
       "    <tr>\n",
       "      <th>2023-12-15</th>\n",
       "      <td>154.622724</td>\n",
       "    </tr>\n",
       "    <tr>\n",
       "      <th>2023-12-22</th>\n",
       "      <td>154.984301</td>\n",
       "    </tr>\n",
       "    <tr>\n",
       "      <th>2023-12-29</th>\n",
       "      <td>155.345877</td>\n",
       "    </tr>\n",
       "  </tbody>\n",
       "</table>\n",
       "</div>"
      ],
      "text/plain": [
       "            Prediction\n",
       "ds                    \n",
       "2023-07-21  147.029617\n",
       "2023-07-28  147.391194\n",
       "2023-08-04  147.752770\n",
       "2023-08-11  148.114347\n",
       "2023-08-18  148.475923\n",
       "2023-08-25  148.837500\n",
       "2023-09-01  149.199076\n",
       "2023-09-08  149.560653\n",
       "2023-09-15  149.922230\n",
       "2023-09-22  150.283806\n",
       "2023-09-29  150.645383\n",
       "2023-10-06  151.006959\n",
       "2023-10-13  151.368536\n",
       "2023-10-20  151.730112\n",
       "2023-10-27  152.091689\n",
       "2023-11-03  152.453265\n",
       "2023-11-10  152.814842\n",
       "2023-11-17  153.176418\n",
       "2023-11-24  153.537995\n",
       "2023-12-01  153.899571\n",
       "2023-12-08  154.261148\n",
       "2023-12-15  154.622724\n",
       "2023-12-22  154.984301\n",
       "2023-12-29  155.345877"
      ]
     },
     "execution_count": 31,
     "metadata": {},
     "output_type": "execute_result"
    }
   ],
   "source": [
    "#RCC\n",
    "rcc_data= rcc_new_df1[['ds', 'y']]\n",
    "rcc_data_new = rcc_data.iloc[:-1]\n",
    "rcc_data_new.set_index('ds')\n",
    "rcc_forecast.rename(columns = {'yhat':'Prediction'}, inplace = True)\n",
    "rcc_forecast.set_index('ds')\n",
    "\n",
    "#HCC\n",
    "hcc_data= hcc_new_df1[['ds', 'y']]\n",
    "hcc_data_new = hcc_data.iloc[:-1]\n",
    "hcc_data_new.set_index('ds')\n",
    "hcc_forecast.rename(columns = {'yhat':'Prediction'}, inplace = True)\n",
    "hcc_forecast.set_index('ds')\n",
    "\n",
    "#DTC\n",
    "dtc_data= dtc_new_df1[['ds', 'y']]\n",
    "dtc_data_new = dtc_data.iloc[:-1]\n",
    "dtc_data_new.set_index('ds')\n",
    "dtc_forecast.rename(columns = {'yhat':'Prediction'}, inplace = True)\n",
    "dtc_forecast.set_index('ds')\n",
    "\n",
    "#EASE\n",
    "ease_data= ease_new_df1[['ds', 'y']]\n",
    "ease_data_new = ease_data.iloc[:-1]\n",
    "ease_data_new.set_index('ds')\n",
    "ease_forecast.rename(columns = {'yhat':'Prediction'}, inplace = True)\n",
    "ease_forecast.set_index('ds')"
   ]
  },
  {
   "cell_type": "code",
   "execution_count": 32,
   "id": "c357bb1b-269a-4027-bac5-e777dcab3991",
   "metadata": {
    "tags": []
   },
   "outputs": [],
   "source": [
    "rcc_future_forecasts= pd.concat([rcc_data_new,rcc_forecast])\n",
    "hcc_future_forecasts= pd.concat([hcc_data_new,hcc_forecast])\n",
    "dtc_future_forecasts= pd.concat([dtc_data_new,dtc_forecast])\n",
    "ease_future_forecasts= pd.concat([ease_data_new,ease_forecast])"
   ]
  },
  {
   "cell_type": "code",
   "execution_count": 33,
   "id": "210b8976-31a6-4fcb-b8c1-431c97598da9",
   "metadata": {
    "tags": []
   },
   "outputs": [
    {
     "data": {
      "text/html": [
       "<div>\n",
       "<style scoped>\n",
       "    .dataframe tbody tr th:only-of-type {\n",
       "        vertical-align: middle;\n",
       "    }\n",
       "\n",
       "    .dataframe tbody tr th {\n",
       "        vertical-align: top;\n",
       "    }\n",
       "\n",
       "    .dataframe thead th {\n",
       "        text-align: right;\n",
       "    }\n",
       "</style>\n",
       "<table border=\"1\" class=\"dataframe\">\n",
       "  <thead>\n",
       "    <tr style=\"text-align: right;\">\n",
       "      <th></th>\n",
       "      <th>y</th>\n",
       "      <th>Prediction</th>\n",
       "    </tr>\n",
       "    <tr>\n",
       "      <th>ds</th>\n",
       "      <th></th>\n",
       "      <th></th>\n",
       "    </tr>\n",
       "  </thead>\n",
       "  <tbody>\n",
       "    <tr>\n",
       "      <th>2021-01-08</th>\n",
       "      <td>90.0</td>\n",
       "      <td>NaN</td>\n",
       "    </tr>\n",
       "    <tr>\n",
       "      <th>2021-01-15</th>\n",
       "      <td>81.0</td>\n",
       "      <td>NaN</td>\n",
       "    </tr>\n",
       "    <tr>\n",
       "      <th>2021-01-22</th>\n",
       "      <td>57.0</td>\n",
       "      <td>NaN</td>\n",
       "    </tr>\n",
       "    <tr>\n",
       "      <th>2021-01-29</th>\n",
       "      <td>92.0</td>\n",
       "      <td>NaN</td>\n",
       "    </tr>\n",
       "    <tr>\n",
       "      <th>2021-02-05</th>\n",
       "      <td>89.0</td>\n",
       "      <td>NaN</td>\n",
       "    </tr>\n",
       "    <tr>\n",
       "      <th>...</th>\n",
       "      <td>...</td>\n",
       "      <td>...</td>\n",
       "    </tr>\n",
       "    <tr>\n",
       "      <th>2023-12-01</th>\n",
       "      <td>NaN</td>\n",
       "      <td>153.899571</td>\n",
       "    </tr>\n",
       "    <tr>\n",
       "      <th>2023-12-08</th>\n",
       "      <td>NaN</td>\n",
       "      <td>154.261148</td>\n",
       "    </tr>\n",
       "    <tr>\n",
       "      <th>2023-12-15</th>\n",
       "      <td>NaN</td>\n",
       "      <td>154.622724</td>\n",
       "    </tr>\n",
       "    <tr>\n",
       "      <th>2023-12-22</th>\n",
       "      <td>NaN</td>\n",
       "      <td>154.984301</td>\n",
       "    </tr>\n",
       "    <tr>\n",
       "      <th>2023-12-29</th>\n",
       "      <td>NaN</td>\n",
       "      <td>155.345877</td>\n",
       "    </tr>\n",
       "  </tbody>\n",
       "</table>\n",
       "<p>156 rows × 2 columns</p>\n",
       "</div>"
      ],
      "text/plain": [
       "               y  Prediction\n",
       "ds                          \n",
       "2021-01-08  90.0         NaN\n",
       "2021-01-15  81.0         NaN\n",
       "2021-01-22  57.0         NaN\n",
       "2021-01-29  92.0         NaN\n",
       "2021-02-05  89.0         NaN\n",
       "...          ...         ...\n",
       "2023-12-01   NaN  153.899571\n",
       "2023-12-08   NaN  154.261148\n",
       "2023-12-15   NaN  154.622724\n",
       "2023-12-22   NaN  154.984301\n",
       "2023-12-29   NaN  155.345877\n",
       "\n",
       "[156 rows x 2 columns]"
      ]
     },
     "execution_count": 33,
     "metadata": {},
     "output_type": "execute_result"
    }
   ],
   "source": [
    "rcc_future_forecasts.set_index('ds')\n",
    "hcc_future_forecasts.set_index('ds')\n",
    "dtc_future_forecasts.set_index('ds')\n",
    "ease_future_forecasts.set_index('ds')"
   ]
  },
  {
   "cell_type": "code",
   "execution_count": 34,
   "id": "3d191e72-e5c2-4634-87df-4a210e0f2a2c",
   "metadata": {
    "tags": []
   },
   "outputs": [],
   "source": [
    "rcc_future_forecasts['Forecast_totals'] = rcc_future_forecasts.fillna(0)['y'] + rcc_future_forecasts.fillna(0)['Prediction']\n",
    "hcc_future_forecasts['Forecast_totals'] = hcc_future_forecasts.fillna(0)['y'] + hcc_future_forecasts.fillna(0)['Prediction']\n",
    "dtc_future_forecasts['Forecast_totals'] = dtc_future_forecasts.fillna(0)['y'] + dtc_future_forecasts.fillna(0)['Prediction']\n",
    "ease_future_forecasts['Forecast_totals'] = ease_future_forecasts.fillna(0)['y'] + ease_future_forecasts.fillna(0)['Prediction']\n"
   ]
  },
  {
   "cell_type": "code",
   "execution_count": 35,
   "id": "8bc73079-6bdc-45b2-be4c-054e64ed047a",
   "metadata": {
    "tags": []
   },
   "outputs": [],
   "source": [
    "rcc_forecast_range=pd.date_range(start=a, periods=52, freq='W-FRI')\n",
    "hcc_forecast_range=pd.date_range(start=a, periods=52, freq='W-FRI')\n",
    "dtc_forecast_range=pd.date_range(start=a, periods=52, freq='W-FRI')\n",
    "ease_forecast_range=pd.date_range(start=a, periods=52, freq='W-FRI')"
   ]
  },
  {
   "cell_type": "code",
   "execution_count": 36,
   "id": "c0993fea-5ac0-4dba-9081-65f7a08a4d33",
   "metadata": {
    "tags": []
   },
   "outputs": [],
   "source": [
    "s_e=rcc_train\n",
    "s_e=s_e.reset_index()\n",
    "s= s_e.head(1)\n",
    "e= s_e.tail(1)"
   ]
  },
  {
   "cell_type": "code",
   "execution_count": 37,
   "id": "cace9b5a-cfcd-4511-b377-b64e8fbe164c",
   "metadata": {
    "tags": []
   },
   "outputs": [
    {
     "data": {
      "text/html": [
       "<div>\n",
       "<style scoped>\n",
       "    .dataframe tbody tr th:only-of-type {\n",
       "        vertical-align: middle;\n",
       "    }\n",
       "\n",
       "    .dataframe tbody tr th {\n",
       "        vertical-align: top;\n",
       "    }\n",
       "\n",
       "    .dataframe thead th {\n",
       "        text-align: right;\n",
       "    }\n",
       "</style>\n",
       "<table border=\"1\" class=\"dataframe\">\n",
       "  <thead>\n",
       "    <tr style=\"text-align: right;\">\n",
       "      <th></th>\n",
       "      <th>Date</th>\n",
       "      <th>EASE_Outs</th>\n",
       "      <th>Prediction</th>\n",
       "      <th>Forecast_totals</th>\n",
       "    </tr>\n",
       "  </thead>\n",
       "  <tbody>\n",
       "    <tr>\n",
       "      <th>157</th>\n",
       "      <td>2021-01-08</td>\n",
       "      <td>90.0</td>\n",
       "      <td>NaN</td>\n",
       "      <td>90.000000</td>\n",
       "    </tr>\n",
       "    <tr>\n",
       "      <th>158</th>\n",
       "      <td>2021-01-15</td>\n",
       "      <td>81.0</td>\n",
       "      <td>NaN</td>\n",
       "      <td>81.000000</td>\n",
       "    </tr>\n",
       "    <tr>\n",
       "      <th>159</th>\n",
       "      <td>2021-01-22</td>\n",
       "      <td>57.0</td>\n",
       "      <td>NaN</td>\n",
       "      <td>57.000000</td>\n",
       "    </tr>\n",
       "    <tr>\n",
       "      <th>160</th>\n",
       "      <td>2021-01-29</td>\n",
       "      <td>92.0</td>\n",
       "      <td>NaN</td>\n",
       "      <td>92.000000</td>\n",
       "    </tr>\n",
       "    <tr>\n",
       "      <th>161</th>\n",
       "      <td>2021-02-05</td>\n",
       "      <td>89.0</td>\n",
       "      <td>NaN</td>\n",
       "      <td>89.000000</td>\n",
       "    </tr>\n",
       "    <tr>\n",
       "      <th>...</th>\n",
       "      <td>...</td>\n",
       "      <td>...</td>\n",
       "      <td>...</td>\n",
       "      <td>...</td>\n",
       "    </tr>\n",
       "    <tr>\n",
       "      <th>123</th>\n",
       "      <td>2023-12-01</td>\n",
       "      <td>NaN</td>\n",
       "      <td>153.899571</td>\n",
       "      <td>153.899571</td>\n",
       "    </tr>\n",
       "    <tr>\n",
       "      <th>124</th>\n",
       "      <td>2023-12-08</td>\n",
       "      <td>NaN</td>\n",
       "      <td>154.261148</td>\n",
       "      <td>154.261148</td>\n",
       "    </tr>\n",
       "    <tr>\n",
       "      <th>125</th>\n",
       "      <td>2023-12-15</td>\n",
       "      <td>NaN</td>\n",
       "      <td>154.622724</td>\n",
       "      <td>154.622724</td>\n",
       "    </tr>\n",
       "    <tr>\n",
       "      <th>126</th>\n",
       "      <td>2023-12-22</td>\n",
       "      <td>NaN</td>\n",
       "      <td>154.984301</td>\n",
       "      <td>154.984301</td>\n",
       "    </tr>\n",
       "    <tr>\n",
       "      <th>127</th>\n",
       "      <td>2023-12-29</td>\n",
       "      <td>NaN</td>\n",
       "      <td>155.345877</td>\n",
       "      <td>155.345877</td>\n",
       "    </tr>\n",
       "  </tbody>\n",
       "</table>\n",
       "<p>156 rows × 4 columns</p>\n",
       "</div>"
      ],
      "text/plain": [
       "          Date  EASE_Outs  Prediction  Forecast_totals\n",
       "157 2021-01-08       90.0         NaN        90.000000\n",
       "158 2021-01-15       81.0         NaN        81.000000\n",
       "159 2021-01-22       57.0         NaN        57.000000\n",
       "160 2021-01-29       92.0         NaN        92.000000\n",
       "161 2021-02-05       89.0         NaN        89.000000\n",
       "..         ...        ...         ...              ...\n",
       "123 2023-12-01        NaN  153.899571       153.899571\n",
       "124 2023-12-08        NaN  154.261148       154.261148\n",
       "125 2023-12-15        NaN  154.622724       154.622724\n",
       "126 2023-12-22        NaN  154.984301       154.984301\n",
       "127 2023-12-29        NaN  155.345877       155.345877\n",
       "\n",
       "[156 rows x 4 columns]"
      ]
     },
     "execution_count": 37,
     "metadata": {},
     "output_type": "execute_result"
    }
   ],
   "source": [
    "#RCC\n",
    "rcc_future_forecasts.rename(columns = {'ds':'Date'}, inplace = True)\n",
    "rcc_future_forecasts.rename(columns = {'y':'RCC_Outs'}, inplace = True)\n",
    "rcc_future_forecasts['Date']=pd.to_datetime(rcc_future_forecasts['Date'])\n",
    "rcc_future_forecasts\n",
    "\n",
    "#HCC\n",
    "hcc_future_forecasts.rename(columns = {'ds':'Date'}, inplace = True)\n",
    "hcc_future_forecasts.rename(columns = {'y':'HCC_Outs'}, inplace = True)\n",
    "hcc_future_forecasts['Date']=pd.to_datetime(hcc_future_forecasts['Date'])\n",
    "hcc_future_forecasts\n",
    "\n",
    "#DTC\n",
    "dtc_future_forecasts.rename(columns = {'ds':'Date'}, inplace = True)\n",
    "dtc_future_forecasts.rename(columns = {'y':'DTC_Outs'}, inplace = True)\n",
    "dtc_future_forecasts['Date']=pd.to_datetime(dtc_future_forecasts['Date'])\n",
    "dtc_future_forecasts\n",
    "\n",
    "#EASE\n",
    "ease_future_forecasts.rename(columns = {'ds':'Date'}, inplace = True)\n",
    "ease_future_forecasts.rename(columns = {'y':'EASE_Outs'}, inplace = True)\n",
    "ease_future_forecasts['Date']=pd.to_datetime(ease_future_forecasts['Date'])\n",
    "ease_future_forecasts\n",
    "\n"
   ]
  },
  {
   "cell_type": "code",
   "execution_count": 38,
   "id": "50e881ec-439c-4033-be49-328b279fa560",
   "metadata": {
    "tags": []
   },
   "outputs": [],
   "source": [
    "#RCC\n",
    "\n",
    "rcc_df_Fut = rcc_future_forecasts.reset_index()\n",
    "rcc_df_Fut['Year'] = pd.PeriodIndex(rcc_df_Fut.Date, freq='y')\n",
    "rcc_df_Fut['Quarter'] = rcc_df_Fut.Date.dt.quarter\n",
    "weekend= rcc_master_dataframe_cabo.tail(2)\n",
    "rcc_df_Fut['Week_Ending_date'] = weekend['date'].iloc[0]\n",
    "rcc_df_Fut['Training_Start_date'] = s['date'].iloc[0]\n",
    "rcc_df_Fut['Training_End_date'] = e['date'].iloc[0]\n",
    "rcc_df_Fut['Sales_Type'] = 'COMMERCIAL'\n",
    "rcc_df_Fut['Model_Type'] = 'RCC-PROPHET'\n",
    "\n"
   ]
  },
  {
   "cell_type": "code",
   "execution_count": 39,
   "id": "b1f01ac4-740b-4245-bd5f-714a4aed70c6",
   "metadata": {
    "tags": []
   },
   "outputs": [],
   "source": [
    "#HCC\n",
    "\n",
    "hcc_df_Fut = hcc_future_forecasts.reset_index()\n",
    "hcc_df_Fut['Year'] = pd.PeriodIndex(hcc_df_Fut.Date, freq='y')\n",
    "hcc_df_Fut['Quarter'] = rcc_df_Fut.Date.dt.quarter\n",
    "weekend= hcc_master_dataframe_cabo.tail(2)\n",
    "hcc_df_Fut['Week_Ending_date'] = weekend['date'].iloc[0]\n",
    "hcc_df_Fut['Training_Start_date'] = s['date'].iloc[0]\n",
    "hcc_df_Fut['Training_End_date'] = e['date'].iloc[0]\n",
    "hcc_df_Fut['Sales_Type'] = 'COMMERCIAL'\n",
    "hcc_df_Fut['Model_Type'] = 'HCC-PROPHET'\n"
   ]
  },
  {
   "cell_type": "code",
   "execution_count": 40,
   "id": "b4f71978-f989-4641-b201-1cf5e1d7bca5",
   "metadata": {
    "tags": []
   },
   "outputs": [],
   "source": [
    "#DTC\n",
    "\n",
    "dtc_df_Fut = dtc_future_forecasts.reset_index()\n",
    "dtc_df_Fut['Year'] = pd.PeriodIndex(dtc_df_Fut.Date, freq='y')\n",
    "dtc_df_Fut['Quarter'] = dtc_df_Fut.Date.dt.quarter\n",
    "weekend= dtc_master_dataframe_cabo.tail(2)\n",
    "dtc_df_Fut['Week_Ending_date'] = weekend['date'].iloc[0]\n",
    "dtc_df_Fut['Training_Start_date'] = s['date'].iloc[0]\n",
    "dtc_df_Fut['Training_End_date'] = e['date'].iloc[0]\n",
    "dtc_df_Fut['Sales_Type'] = 'COMMERCIAL'\n",
    "dtc_df_Fut['Model_Type'] = 'DTC-PROPHET'"
   ]
  },
  {
   "cell_type": "code",
   "execution_count": 41,
   "id": "e7acdf41-356a-465e-ae4c-485af523ef12",
   "metadata": {
    "tags": []
   },
   "outputs": [],
   "source": [
    "#EASE\n",
    "\n",
    "ease_df_Fut = ease_future_forecasts.reset_index()\n",
    "ease_df_Fut['Year'] = pd.PeriodIndex(ease_df_Fut.Date, freq='y')\n",
    "ease_df_Fut['Quarter'] = ease_df_Fut.Date.dt.quarter\n",
    "weekend= ease_master_dataframe_cabo.tail(2)\n",
    "ease_df_Fut['Week_Ending_date'] = weekend['date'].iloc[0]\n",
    "ease_df_Fut['Training_Start_date'] = s['date'].iloc[0]\n",
    "ease_df_Fut['Training_End_date'] = e['date'].iloc[0]\n",
    "ease_df_Fut['Sales_Type'] = 'COMMERCIAL'\n",
    "ease_df_Fut['Model_Type'] = 'EASE-PROPHET'"
   ]
  },
  {
   "cell_type": "code",
   "execution_count": 42,
   "id": "04ada00d-7bb2-4a84-9379-f96976fd78d3",
   "metadata": {
    "tags": []
   },
   "outputs": [
    {
     "data": {
      "text/html": [
       "<div>\n",
       "<style scoped>\n",
       "    .dataframe tbody tr th:only-of-type {\n",
       "        vertical-align: middle;\n",
       "    }\n",
       "\n",
       "    .dataframe tbody tr th {\n",
       "        vertical-align: top;\n",
       "    }\n",
       "\n",
       "    .dataframe thead th {\n",
       "        text-align: right;\n",
       "    }\n",
       "</style>\n",
       "<table border=\"1\" class=\"dataframe\">\n",
       "  <thead>\n",
       "    <tr style=\"text-align: right;\">\n",
       "      <th></th>\n",
       "      <th>index</th>\n",
       "      <th>Date</th>\n",
       "      <th>EASE_Outs</th>\n",
       "      <th>Prediction</th>\n",
       "      <th>Forecast_totals</th>\n",
       "      <th>Year</th>\n",
       "      <th>Quarter</th>\n",
       "      <th>Week_Ending_date</th>\n",
       "      <th>Training_Start_date</th>\n",
       "      <th>Training_End_date</th>\n",
       "      <th>Sales_Type</th>\n",
       "      <th>Model_Type</th>\n",
       "    </tr>\n",
       "  </thead>\n",
       "  <tbody>\n",
       "    <tr>\n",
       "      <th>0</th>\n",
       "      <td>157</td>\n",
       "      <td>2021-01-08</td>\n",
       "      <td>90.0</td>\n",
       "      <td>NaN</td>\n",
       "      <td>90.000000</td>\n",
       "      <td>2021</td>\n",
       "      <td>1</td>\n",
       "      <td>2023-07-14</td>\n",
       "      <td>2021-07-23</td>\n",
       "      <td>2023-07-14</td>\n",
       "      <td>COMMERCIAL</td>\n",
       "      <td>EASE-PROPHET</td>\n",
       "    </tr>\n",
       "    <tr>\n",
       "      <th>1</th>\n",
       "      <td>158</td>\n",
       "      <td>2021-01-15</td>\n",
       "      <td>81.0</td>\n",
       "      <td>NaN</td>\n",
       "      <td>81.000000</td>\n",
       "      <td>2021</td>\n",
       "      <td>1</td>\n",
       "      <td>2023-07-14</td>\n",
       "      <td>2021-07-23</td>\n",
       "      <td>2023-07-14</td>\n",
       "      <td>COMMERCIAL</td>\n",
       "      <td>EASE-PROPHET</td>\n",
       "    </tr>\n",
       "    <tr>\n",
       "      <th>2</th>\n",
       "      <td>159</td>\n",
       "      <td>2021-01-22</td>\n",
       "      <td>57.0</td>\n",
       "      <td>NaN</td>\n",
       "      <td>57.000000</td>\n",
       "      <td>2021</td>\n",
       "      <td>1</td>\n",
       "      <td>2023-07-14</td>\n",
       "      <td>2021-07-23</td>\n",
       "      <td>2023-07-14</td>\n",
       "      <td>COMMERCIAL</td>\n",
       "      <td>EASE-PROPHET</td>\n",
       "    </tr>\n",
       "    <tr>\n",
       "      <th>3</th>\n",
       "      <td>160</td>\n",
       "      <td>2021-01-29</td>\n",
       "      <td>92.0</td>\n",
       "      <td>NaN</td>\n",
       "      <td>92.000000</td>\n",
       "      <td>2021</td>\n",
       "      <td>1</td>\n",
       "      <td>2023-07-14</td>\n",
       "      <td>2021-07-23</td>\n",
       "      <td>2023-07-14</td>\n",
       "      <td>COMMERCIAL</td>\n",
       "      <td>EASE-PROPHET</td>\n",
       "    </tr>\n",
       "    <tr>\n",
       "      <th>4</th>\n",
       "      <td>161</td>\n",
       "      <td>2021-02-05</td>\n",
       "      <td>89.0</td>\n",
       "      <td>NaN</td>\n",
       "      <td>89.000000</td>\n",
       "      <td>2021</td>\n",
       "      <td>1</td>\n",
       "      <td>2023-07-14</td>\n",
       "      <td>2021-07-23</td>\n",
       "      <td>2023-07-14</td>\n",
       "      <td>COMMERCIAL</td>\n",
       "      <td>EASE-PROPHET</td>\n",
       "    </tr>\n",
       "    <tr>\n",
       "      <th>...</th>\n",
       "      <td>...</td>\n",
       "      <td>...</td>\n",
       "      <td>...</td>\n",
       "      <td>...</td>\n",
       "      <td>...</td>\n",
       "      <td>...</td>\n",
       "      <td>...</td>\n",
       "      <td>...</td>\n",
       "      <td>...</td>\n",
       "      <td>...</td>\n",
       "      <td>...</td>\n",
       "      <td>...</td>\n",
       "    </tr>\n",
       "    <tr>\n",
       "      <th>151</th>\n",
       "      <td>123</td>\n",
       "      <td>2023-12-01</td>\n",
       "      <td>NaN</td>\n",
       "      <td>153.899571</td>\n",
       "      <td>153.899571</td>\n",
       "      <td>2023</td>\n",
       "      <td>4</td>\n",
       "      <td>2023-07-14</td>\n",
       "      <td>2021-07-23</td>\n",
       "      <td>2023-07-14</td>\n",
       "      <td>COMMERCIAL</td>\n",
       "      <td>EASE-PROPHET</td>\n",
       "    </tr>\n",
       "    <tr>\n",
       "      <th>152</th>\n",
       "      <td>124</td>\n",
       "      <td>2023-12-08</td>\n",
       "      <td>NaN</td>\n",
       "      <td>154.261148</td>\n",
       "      <td>154.261148</td>\n",
       "      <td>2023</td>\n",
       "      <td>4</td>\n",
       "      <td>2023-07-14</td>\n",
       "      <td>2021-07-23</td>\n",
       "      <td>2023-07-14</td>\n",
       "      <td>COMMERCIAL</td>\n",
       "      <td>EASE-PROPHET</td>\n",
       "    </tr>\n",
       "    <tr>\n",
       "      <th>153</th>\n",
       "      <td>125</td>\n",
       "      <td>2023-12-15</td>\n",
       "      <td>NaN</td>\n",
       "      <td>154.622724</td>\n",
       "      <td>154.622724</td>\n",
       "      <td>2023</td>\n",
       "      <td>4</td>\n",
       "      <td>2023-07-14</td>\n",
       "      <td>2021-07-23</td>\n",
       "      <td>2023-07-14</td>\n",
       "      <td>COMMERCIAL</td>\n",
       "      <td>EASE-PROPHET</td>\n",
       "    </tr>\n",
       "    <tr>\n",
       "      <th>154</th>\n",
       "      <td>126</td>\n",
       "      <td>2023-12-22</td>\n",
       "      <td>NaN</td>\n",
       "      <td>154.984301</td>\n",
       "      <td>154.984301</td>\n",
       "      <td>2023</td>\n",
       "      <td>4</td>\n",
       "      <td>2023-07-14</td>\n",
       "      <td>2021-07-23</td>\n",
       "      <td>2023-07-14</td>\n",
       "      <td>COMMERCIAL</td>\n",
       "      <td>EASE-PROPHET</td>\n",
       "    </tr>\n",
       "    <tr>\n",
       "      <th>155</th>\n",
       "      <td>127</td>\n",
       "      <td>2023-12-29</td>\n",
       "      <td>NaN</td>\n",
       "      <td>155.345877</td>\n",
       "      <td>155.345877</td>\n",
       "      <td>2023</td>\n",
       "      <td>4</td>\n",
       "      <td>2023-07-14</td>\n",
       "      <td>2021-07-23</td>\n",
       "      <td>2023-07-14</td>\n",
       "      <td>COMMERCIAL</td>\n",
       "      <td>EASE-PROPHET</td>\n",
       "    </tr>\n",
       "  </tbody>\n",
       "</table>\n",
       "<p>156 rows × 12 columns</p>\n",
       "</div>"
      ],
      "text/plain": [
       "     index       Date  EASE_Outs  Prediction  Forecast_totals  Year  Quarter  \\\n",
       "0      157 2021-01-08       90.0         NaN        90.000000  2021        1   \n",
       "1      158 2021-01-15       81.0         NaN        81.000000  2021        1   \n",
       "2      159 2021-01-22       57.0         NaN        57.000000  2021        1   \n",
       "3      160 2021-01-29       92.0         NaN        92.000000  2021        1   \n",
       "4      161 2021-02-05       89.0         NaN        89.000000  2021        1   \n",
       "..     ...        ...        ...         ...              ...   ...      ...   \n",
       "151    123 2023-12-01        NaN  153.899571       153.899571  2023        4   \n",
       "152    124 2023-12-08        NaN  154.261148       154.261148  2023        4   \n",
       "153    125 2023-12-15        NaN  154.622724       154.622724  2023        4   \n",
       "154    126 2023-12-22        NaN  154.984301       154.984301  2023        4   \n",
       "155    127 2023-12-29        NaN  155.345877       155.345877  2023        4   \n",
       "\n",
       "    Week_Ending_date Training_Start_date Training_End_date  Sales_Type  \\\n",
       "0         2023-07-14          2021-07-23        2023-07-14  COMMERCIAL   \n",
       "1         2023-07-14          2021-07-23        2023-07-14  COMMERCIAL   \n",
       "2         2023-07-14          2021-07-23        2023-07-14  COMMERCIAL   \n",
       "3         2023-07-14          2021-07-23        2023-07-14  COMMERCIAL   \n",
       "4         2023-07-14          2021-07-23        2023-07-14  COMMERCIAL   \n",
       "..               ...                 ...               ...         ...   \n",
       "151       2023-07-14          2021-07-23        2023-07-14  COMMERCIAL   \n",
       "152       2023-07-14          2021-07-23        2023-07-14  COMMERCIAL   \n",
       "153       2023-07-14          2021-07-23        2023-07-14  COMMERCIAL   \n",
       "154       2023-07-14          2021-07-23        2023-07-14  COMMERCIAL   \n",
       "155       2023-07-14          2021-07-23        2023-07-14  COMMERCIAL   \n",
       "\n",
       "       Model_Type  \n",
       "0    EASE-PROPHET  \n",
       "1    EASE-PROPHET  \n",
       "2    EASE-PROPHET  \n",
       "3    EASE-PROPHET  \n",
       "4    EASE-PROPHET  \n",
       "..            ...  \n",
       "151  EASE-PROPHET  \n",
       "152  EASE-PROPHET  \n",
       "153  EASE-PROPHET  \n",
       "154  EASE-PROPHET  \n",
       "155  EASE-PROPHET  \n",
       "\n",
       "[156 rows x 12 columns]"
      ]
     },
     "execution_count": 42,
     "metadata": {},
     "output_type": "execute_result"
    }
   ],
   "source": [
    "ease_df_Fut"
   ]
  },
  {
   "cell_type": "code",
   "execution_count": 43,
   "id": "3598ab8e-7582-4e30-b4a6-07b63329b07c",
   "metadata": {
    "tags": []
   },
   "outputs": [],
   "source": [
    "\n",
    "rcc_hcc_one = rcc_df_Fut.append(hcc_df_Fut)\n",
    "rcc_hcc_dtc = rcc_hcc_one.append(dtc_df_Fut)\n",
    "all_one = rcc_hcc_dtc.append(ease_df_Fut)\n"
   ]
  },
  {
   "cell_type": "code",
   "execution_count": 44,
   "id": "4aa0ce81-cd92-4caa-b2b6-385ff7219543",
   "metadata": {
    "tags": []
   },
   "outputs": [],
   "source": [
    "final_df= all_one[['Date','Year','Quarter','Week_Ending_date','Sales_Type','Model_Type','Training_Start_date','Training_End_date','RCC_Outs','HCC_Outs','DTC_Outs','EASE_Outs','Prediction','Forecast_totals']]"
   ]
  },
  {
   "cell_type": "code",
   "execution_count": 45,
   "id": "bb91fbf9-bde8-4e5f-aae9-2eb569470922",
   "metadata": {
    "tags": []
   },
   "outputs": [],
   "source": [
    "final_df.reset_index(drop=True, inplace=True)"
   ]
  },
  {
   "cell_type": "code",
   "execution_count": 46,
   "id": "eb1c3ca8-b6b5-49c8-ad62-6a9be0d88093",
   "metadata": {
    "tags": []
   },
   "outputs": [],
   "source": [
    "s_e=final_df\n",
    "s_e=s_e.reset_index()\n",
    "e= s_e.Week_Ending_date.iloc[0]"
   ]
  },
  {
   "cell_type": "code",
   "execution_count": 47,
   "id": "8dfbddf3-37f2-46d3-bc94-47bdf3508a7f",
   "metadata": {
    "tags": []
   },
   "outputs": [],
   "source": [
    "file_name_1 = \"PROPHET_MODEL.csv\"\n",
    "final_df.to_csv(file_name_1,index=False)"
   ]
  },
  {
   "cell_type": "code",
   "execution_count": 48,
   "id": "dd9acd8c-015a-4cd7-82c8-b7817512ca08",
   "metadata": {
    "tags": []
   },
   "outputs": [],
   "source": [
    "a = 'PROPHET_MODEL.csv'\n",
    "b = str(e)"
   ]
  },
  {
   "cell_type": "code",
   "execution_count": 49,
   "id": "5b240058-51d6-43db-acf2-513631d95e49",
   "metadata": {
    "tags": []
   },
   "outputs": [],
   "source": [
    "s3 = boto3.resource('s3')\n",
    "s3.meta.client.upload_file(file_name_1, 'forecastingpoc', 'inputfiles/'+b+' - '+a)"
   ]
  }
 ],
 "metadata": {
  "instance_type": "ml.g4dn.xlarge",
  "kernelspec": {
   "display_name": "Python 3 (Data Science)",
   "language": "python",
   "name": "python3__SAGEMAKER_INTERNAL__arn:aws:sagemaker:us-west-2:236514542706:image/datascience-1.0"
  },
  "language_info": {
   "codemirror_mode": {
    "name": "ipython",
    "version": 3
   },
   "file_extension": ".py",
   "mimetype": "text/x-python",
   "name": "python",
   "nbconvert_exporter": "python",
   "pygments_lexer": "ipython3",
   "version": "3.7.10"
  }
 },
 "nbformat": 4,
 "nbformat_minor": 5
}
