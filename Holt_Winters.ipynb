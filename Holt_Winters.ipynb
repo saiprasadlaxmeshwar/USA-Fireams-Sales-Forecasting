{
 "cells": [
  {
   "cell_type": "code",
   "execution_count": 5,
   "id": "4b2baad1-c2f8-415a-bc88-5722ab52e31b",
   "metadata": {
    "tags": []
   },
   "outputs": [
    {
     "name": "stdout",
     "output_type": "stream",
     "text": [
      "Requirement already satisfied: pip in /opt/conda/lib/python3.7/site-packages (23.2)\n",
      "\u001b[33mDEPRECATION: pyodbc 4.0.0-unsupported has a non-standard version number. pip 23.3 will enforce this behaviour change. A possible replacement is to upgrade to a newer version of pyodbc or contact the author to suggest that they release a version with a conforming version number. Discussion can be found at https://github.com/pypa/pip/issues/12063\u001b[0m\u001b[33m\n",
      "\u001b[0m\u001b[33mWARNING: Running pip as the 'root' user can result in broken permissions and conflicting behaviour with the system package manager. It is recommended to use a virtual environment instead: https://pip.pypa.io/warnings/venv\u001b[0m\u001b[33m\n",
      "\u001b[0mRequirement already satisfied: pmdarima in /opt/conda/lib/python3.7/site-packages (2.0.3)\n",
      "Requirement already satisfied: joblib>=0.11 in /opt/conda/lib/python3.7/site-packages (from pmdarima) (1.2.0)\n",
      "Requirement already satisfied: Cython!=0.29.18,!=0.29.31,>=0.29 in /opt/conda/lib/python3.7/site-packages (from pmdarima) (0.29.15)\n",
      "Requirement already satisfied: numpy>=1.21.2 in /opt/conda/lib/python3.7/site-packages (from pmdarima) (1.21.6)\n",
      "Requirement already satisfied: pandas>=0.19 in /opt/conda/lib/python3.7/site-packages (from pmdarima) (1.3.5)\n",
      "Requirement already satisfied: scikit-learn>=0.22 in /opt/conda/lib/python3.7/site-packages (from pmdarima) (0.22.1)\n",
      "Requirement already satisfied: scipy>=1.3.2 in /opt/conda/lib/python3.7/site-packages (from pmdarima) (1.4.1)\n",
      "Requirement already satisfied: statsmodels>=0.13.2 in /opt/conda/lib/python3.7/site-packages (from pmdarima) (0.13.5)\n",
      "Requirement already satisfied: urllib3 in /opt/conda/lib/python3.7/site-packages (from pmdarima) (2.0.3)\n",
      "Requirement already satisfied: setuptools!=50.0.0,>=38.6.0 in /opt/conda/lib/python3.7/site-packages (from pmdarima) (65.5.1)\n",
      "Requirement already satisfied: python-dateutil>=2.7.3 in /opt/conda/lib/python3.7/site-packages (from pandas>=0.19->pmdarima) (2.8.2)\n",
      "Requirement already satisfied: pytz>=2017.3 in /opt/conda/lib/python3.7/site-packages (from pandas>=0.19->pmdarima) (2019.3)\n",
      "Requirement already satisfied: patsy>=0.5.2 in /opt/conda/lib/python3.7/site-packages (from statsmodels>=0.13.2->pmdarima) (0.5.3)\n",
      "Requirement already satisfied: packaging>=21.3 in /opt/conda/lib/python3.7/site-packages (from statsmodels>=0.13.2->pmdarima) (23.1)\n",
      "Requirement already satisfied: six in /opt/conda/lib/python3.7/site-packages (from patsy>=0.5.2->statsmodels>=0.13.2->pmdarima) (1.14.0)\n",
      "\u001b[33mDEPRECATION: pyodbc 4.0.0-unsupported has a non-standard version number. pip 23.3 will enforce this behaviour change. A possible replacement is to upgrade to a newer version of pyodbc or contact the author to suggest that they release a version with a conforming version number. Discussion can be found at https://github.com/pypa/pip/issues/12063\u001b[0m\u001b[33m\n",
      "\u001b[0m\u001b[33mWARNING: Running pip as the 'root' user can result in broken permissions and conflicting behaviour with the system package manager. It is recommended to use a virtual environment instead: https://pip.pypa.io/warnings/venv\u001b[0m\u001b[33m\n",
      "\u001b[0mRequirement already satisfied: psycopg2-binary in /opt/conda/lib/python3.7/site-packages (2.9.6)\n",
      "\u001b[33mDEPRECATION: pyodbc 4.0.0-unsupported has a non-standard version number. pip 23.3 will enforce this behaviour change. A possible replacement is to upgrade to a newer version of pyodbc or contact the author to suggest that they release a version with a conforming version number. Discussion can be found at https://github.com/pypa/pip/issues/12063\u001b[0m\u001b[33m\n",
      "\u001b[0m\u001b[33mWARNING: Running pip as the 'root' user can result in broken permissions and conflicting behaviour with the system package manager. It is recommended to use a virtual environment instead: https://pip.pypa.io/warnings/venv\u001b[0m\u001b[33m\n",
      "\u001b[0mCollecting mpld3\n",
      "  Using cached mpld3-0.5.9-py3-none-any.whl (201 kB)\n",
      "Requirement already satisfied: jinja2 in /opt/conda/lib/python3.7/site-packages (from mpld3) (3.1.2)\n",
      "Requirement already satisfied: matplotlib in /opt/conda/lib/python3.7/site-packages (from mpld3) (3.1.3)\n",
      "Requirement already satisfied: MarkupSafe>=2.0 in /opt/conda/lib/python3.7/site-packages (from jinja2->mpld3) (2.1.3)\n",
      "Requirement already satisfied: cycler>=0.10 in /opt/conda/lib/python3.7/site-packages (from matplotlib->mpld3) (0.10.0)\n",
      "Requirement already satisfied: kiwisolver>=1.0.1 in /opt/conda/lib/python3.7/site-packages (from matplotlib->mpld3) (1.1.0)\n",
      "Requirement already satisfied: pyparsing!=2.0.4,!=2.1.2,!=2.1.6,>=2.0.1 in /opt/conda/lib/python3.7/site-packages (from matplotlib->mpld3) (2.4.6)\n",
      "Requirement already satisfied: python-dateutil>=2.1 in /opt/conda/lib/python3.7/site-packages (from matplotlib->mpld3) (2.8.2)\n",
      "Requirement already satisfied: numpy>=1.11 in /opt/conda/lib/python3.7/site-packages (from matplotlib->mpld3) (1.21.6)\n",
      "Requirement already satisfied: six in /opt/conda/lib/python3.7/site-packages (from cycler>=0.10->matplotlib->mpld3) (1.14.0)\n",
      "Requirement already satisfied: setuptools in /opt/conda/lib/python3.7/site-packages (from kiwisolver>=1.0.1->matplotlib->mpld3) (65.5.1)\n",
      "\u001b[33mDEPRECATION: pyodbc 4.0.0-unsupported has a non-standard version number. pip 23.3 will enforce this behaviour change. A possible replacement is to upgrade to a newer version of pyodbc or contact the author to suggest that they release a version with a conforming version number. Discussion can be found at https://github.com/pypa/pip/issues/12063\u001b[0m\u001b[33m\n",
      "\u001b[0mInstalling collected packages: mpld3\n",
      "Successfully installed mpld3-0.5.9\n",
      "\u001b[33mWARNING: Running pip as the 'root' user can result in broken permissions and conflicting behaviour with the system package manager. It is recommended to use a virtual environment instead: https://pip.pypa.io/warnings/venv\u001b[0m\u001b[33m\n",
      "\u001b[0m"
     ]
    }
   ],
   "source": [
    "!pip install --upgrade pip\n",
    "!pip install pmdarima\n",
    "!pip install psycopg2-binary\n",
    "!pip install mpld3"
   ]
  },
  {
   "cell_type": "code",
   "execution_count": 6,
   "id": "b4738a1e-ee23-4ac5-9f87-b048d803a8c6",
   "metadata": {
    "tags": []
   },
   "outputs": [],
   "source": [
    "#Import Python Packages\n",
    "import matplotlib as mpl\n",
    "import matplotlib.pyplot as plt\n",
    "import numpy as np\n",
    "import os\n",
    "from datetime import datetime\n",
    "import pandas as pd\n",
    "from datetime import datetime, timedelta\n",
    "import time\n",
    "import psycopg2\n",
    "import boto3\n",
    "\n",
    "from statsmodels.tsa.seasonal import seasonal_decompose \n",
    "# holt winters \n",
    "# single exponential smoothing\n",
    "from statsmodels.tsa.holtwinters import SimpleExpSmoothing   \n",
    "# double and triple exponential smoothing\n",
    "from statsmodels.tsa.holtwinters import ExponentialSmoothing\n",
    "\n",
    "mpl.rcParams['figure.figsize'] = (10, 8)\n",
    "mpl.rcParams['axes.grid'] = False\n",
    "import mpld3\n",
    "mpld3.enable_notebook()"
   ]
  },
  {
   "cell_type": "code",
   "execution_count": 7,
   "id": "44b0518d-9242-4ccf-8692-b9646e84e1c1",
   "metadata": {
    "tags": []
   },
   "outputs": [],
   "source": [
    "# Put the ARN of your AWS Secrets Manager secret for your redshift cluster here:\n",
    "secret_name=\"arn:aws:secretsmanager:us-west-2:451614664738:secret:ForecastingSecret-JRCdLL\"\n",
    "\n",
    "# This will get the secret from AWS Secrets Manager. \n",
    "import boto3\n",
    "import json\n",
    "\n",
    "session = boto3.session.Session()\n",
    "client = session.client(\n",
    "    service_name='secretsmanager'\n",
    ")\n",
    "\n",
    "get_secret_value_response = client.get_secret_value(\n",
    "    SecretId=secret_name\n",
    ")\n",
    "\n",
    "if 'SecretString' in get_secret_value_response:\n",
    "    connection_info = json.loads(get_secret_value_response['SecretString'])\n",
    "else:\n",
    "    print(\"ERROR: no secret data found\")"
   ]
  },
  {
   "cell_type": "code",
   "execution_count": 8,
   "id": "4204ce49-10da-40be-aad0-6016d691e321",
   "metadata": {
    "tags": []
   },
   "outputs": [],
   "source": [
    "# assign a variable that contains a string of your credentials\n",
    "credentials=psycopg2.connect(\n",
    "    dbname   = 'exelredshift', \n",
    "    host     = connection_info[\"host\"], \n",
    "    port     = connection_info[\"port\"], \n",
    "    user     = connection_info[\"username\"], \n",
    "    password = connection_info[\"password\"]\n",
    ")"
   ]
  },
  {
   "cell_type": "code",
   "execution_count": 10,
   "id": "2ff8ba0f-1e08-462b-a2e0-4c6107ba35a9",
   "metadata": {
    "tags": []
   },
   "outputs": [],
   "source": [
    "# read in your SQL query results using pandas\n",
    "df = pd.read_sql(\"\"\"\n",
    "            select * from edm.bl_cabo_rcc_hcc_nps\n",
    "            \"\"\", con = credentials)\n"
   ]
  },
  {
   "cell_type": "code",
   "execution_count": 7,
   "id": "307e8f88-e9ae-48cd-8f08-0611f0993215",
   "metadata": {
    "tags": []
   },
   "outputs": [],
   "source": [
    "selection_rcc_comm = df[['week_ending_dt','projected_sp_rcc_sales','projected_sd_rcc_sales']]\n",
    "selection_hcc_comm = df[['week_ending_dt','projected_sp_hcc_sales','projected_sd_hcc_sales']]\n",
    "selection_dtc_comm = df[['week_ending_dt','projected_sp_thy_sales','projected_sd_thy_sales']]\n",
    "selection_ease = df[['week_ending_dt','projected_ease_rcc_sales','projected_ease_hcc_sales','projected_ease_thy_sales']]"
   ]
  },
  {
   "cell_type": "code",
   "execution_count": 8,
   "id": "58e5b2c8-f5e2-4fec-ac01-fab7f57639ed",
   "metadata": {
    "tags": []
   },
   "outputs": [],
   "source": [
    "\n",
    "sorted_data_rcc_comm= selection_rcc_comm.sort_values(by='week_ending_dt')\n",
    "sorted_data_hcc_comm= selection_hcc_comm.sort_values(by='week_ending_dt')\n",
    "sorted_data_dtc_comm= selection_dtc_comm.sort_values(by='week_ending_dt')\n",
    "sorted_data_ease = selection_ease.sort_values(by='week_ending_dt')\n"
   ]
  },
  {
   "cell_type": "code",
   "execution_count": 9,
   "id": "3e3c1603-5dbd-4153-b4db-456daa9d6c9c",
   "metadata": {
    "tags": []
   },
   "outputs": [],
   "source": [
    "rcc_agg_df= sorted_data_rcc_comm.groupby([\"week_ending_dt\"]).sum()\n",
    "hcc_agg_df= sorted_data_hcc_comm.groupby([\"week_ending_dt\"]).sum()\n",
    "dtc_agg_df= sorted_data_dtc_comm.groupby([\"week_ending_dt\"]).sum()\n",
    "ease_agg_df= sorted_data_ease.groupby([\"week_ending_dt\"]).sum()\n"
   ]
  },
  {
   "cell_type": "code",
   "execution_count": 10,
   "id": "4f0f8d78-0919-4582-808c-8eab85717cec",
   "metadata": {
    "tags": []
   },
   "outputs": [],
   "source": [
    "rcc_agg_sorted = rcc_agg_df.sort_values(by='week_ending_dt')\n",
    "hcc_agg_sorted = hcc_agg_df.sort_values(by='week_ending_dt')\n",
    "dtc_agg_sorted = dtc_agg_df.sort_values(by='week_ending_dt')\n",
    "ease_agg_sorted = ease_agg_df.sort_values(by='week_ending_dt')"
   ]
  },
  {
   "cell_type": "code",
   "execution_count": 11,
   "id": "166b3307-cdc2-40af-9e62-1a2f2e02f68b",
   "metadata": {
    "tags": []
   },
   "outputs": [],
   "source": [
    "rcc_dfn= rcc_agg_sorted.reset_index()\n",
    "hcc_dfn= hcc_agg_sorted.reset_index()\n",
    "dtc_dfn= dtc_agg_sorted.reset_index()\n",
    "ease_dfn= ease_agg_sorted.reset_index()"
   ]
  },
  {
   "cell_type": "code",
   "execution_count": 12,
   "id": "eda0dfe4-1f41-42ff-94aa-db65753e1638",
   "metadata": {
    "tags": []
   },
   "outputs": [],
   "source": [
    "\n",
    "rcc_dfn['RCC_Outs'] = rcc_dfn['projected_sp_rcc_sales']+ rcc_dfn['projected_sd_rcc_sales']\n",
    "hcc_dfn['HCC_Outs'] = hcc_dfn['projected_sp_hcc_sales']+ hcc_dfn['projected_sd_hcc_sales']\n",
    "dtc_dfn['DTC_Outs'] = dtc_dfn['projected_sp_thy_sales']+ dtc_dfn['projected_sd_thy_sales']\n",
    "ease_dfn['EASE_Outs'] = ease_dfn['projected_ease_rcc_sales']+ ease_dfn['projected_ease_hcc_sales']+ ease_dfn['projected_ease_thy_sales']\n",
    "\n"
   ]
  },
  {
   "cell_type": "code",
   "execution_count": 13,
   "id": "ac114835-187a-4894-8e65-9aa027dc7275",
   "metadata": {
    "tags": []
   },
   "outputs": [],
   "source": [
    "\n",
    "rcc_new_dfn= rcc_dfn[['week_ending_dt', 'RCC_Outs']]\n",
    "hcc_new_dfn= hcc_dfn[['week_ending_dt', 'HCC_Outs']]\n",
    "dtc_new_dfn= dtc_dfn[['week_ending_dt', 'DTC_Outs']]\n",
    "ease_new_dfn= ease_dfn[['week_ending_dt', 'EASE_Outs']]\n"
   ]
  },
  {
   "cell_type": "code",
   "execution_count": 14,
   "id": "b7f7f7d7-3b85-4944-8c57-91dd7415127c",
   "metadata": {
    "tags": []
   },
   "outputs": [
    {
     "name": "stderr",
     "output_type": "stream",
     "text": [
      "/opt/conda/lib/python3.7/site-packages/ipykernel_launcher.py:2: SettingWithCopyWarning: \n",
      "A value is trying to be set on a copy of a slice from a DataFrame.\n",
      "Try using .loc[row_indexer,col_indexer] = value instead\n",
      "\n",
      "See the caveats in the documentation: https://pandas.pydata.org/pandas-docs/stable/user_guide/indexing.html#returning-a-view-versus-a-copy\n",
      "  \n",
      "/opt/conda/lib/python3.7/site-packages/ipykernel_launcher.py:3: SettingWithCopyWarning: \n",
      "A value is trying to be set on a copy of a slice from a DataFrame.\n",
      "Try using .loc[row_indexer,col_indexer] = value instead\n",
      "\n",
      "See the caveats in the documentation: https://pandas.pydata.org/pandas-docs/stable/user_guide/indexing.html#returning-a-view-versus-a-copy\n",
      "  This is separate from the ipykernel package so we can avoid doing imports until\n",
      "/opt/conda/lib/python3.7/site-packages/ipykernel_launcher.py:4: SettingWithCopyWarning: \n",
      "A value is trying to be set on a copy of a slice from a DataFrame.\n",
      "Try using .loc[row_indexer,col_indexer] = value instead\n",
      "\n",
      "See the caveats in the documentation: https://pandas.pydata.org/pandas-docs/stable/user_guide/indexing.html#returning-a-view-versus-a-copy\n",
      "  after removing the cwd from sys.path.\n",
      "/opt/conda/lib/python3.7/site-packages/ipykernel_launcher.py:5: SettingWithCopyWarning: \n",
      "A value is trying to be set on a copy of a slice from a DataFrame.\n",
      "Try using .loc[row_indexer,col_indexer] = value instead\n",
      "\n",
      "See the caveats in the documentation: https://pandas.pydata.org/pandas-docs/stable/user_guide/indexing.html#returning-a-view-versus-a-copy\n",
      "  \"\"\"\n"
     ]
    }
   ],
   "source": [
    "#Convert to datetime format\n",
    "rcc_new_dfn['week_end_date'] = pd.to_datetime(rcc_new_dfn['week_ending_dt'])\n",
    "hcc_new_dfn['week_end_date'] = pd.to_datetime(hcc_new_dfn['week_ending_dt'])\n",
    "dtc_new_dfn['week_end_date'] = pd.to_datetime(dtc_new_dfn['week_ending_dt'])\n",
    "ease_new_dfn['week_end_date'] = pd.to_datetime(ease_new_dfn['week_ending_dt'])"
   ]
  },
  {
   "cell_type": "code",
   "execution_count": 15,
   "id": "42afad66-e156-4821-ae07-352805a0564d",
   "metadata": {
    "tags": []
   },
   "outputs": [
    {
     "data": {
      "text/html": [
       "<div>\n",
       "<style scoped>\n",
       "    .dataframe tbody tr th:only-of-type {\n",
       "        vertical-align: middle;\n",
       "    }\n",
       "\n",
       "    .dataframe tbody tr th {\n",
       "        vertical-align: top;\n",
       "    }\n",
       "\n",
       "    .dataframe thead th {\n",
       "        text-align: right;\n",
       "    }\n",
       "</style>\n",
       "<table border=\"1\" class=\"dataframe\">\n",
       "  <thead>\n",
       "    <tr style=\"text-align: right;\">\n",
       "      <th></th>\n",
       "      <th>index</th>\n",
       "      <th>week_ending_dt</th>\n",
       "      <th>EASE_Outs</th>\n",
       "      <th>week_end_date</th>\n",
       "    </tr>\n",
       "  </thead>\n",
       "  <tbody>\n",
       "    <tr>\n",
       "      <th>0</th>\n",
       "      <td>0</td>\n",
       "      <td>2018-01-05</td>\n",
       "      <td>15.50</td>\n",
       "      <td>2018-01-05</td>\n",
       "    </tr>\n",
       "    <tr>\n",
       "      <th>1</th>\n",
       "      <td>1</td>\n",
       "      <td>2018-01-12</td>\n",
       "      <td>41.50</td>\n",
       "      <td>2018-01-12</td>\n",
       "    </tr>\n",
       "    <tr>\n",
       "      <th>2</th>\n",
       "      <td>2</td>\n",
       "      <td>2018-01-19</td>\n",
       "      <td>37.97</td>\n",
       "      <td>2018-01-19</td>\n",
       "    </tr>\n",
       "    <tr>\n",
       "      <th>3</th>\n",
       "      <td>3</td>\n",
       "      <td>2018-01-26</td>\n",
       "      <td>38.96</td>\n",
       "      <td>2018-01-26</td>\n",
       "    </tr>\n",
       "    <tr>\n",
       "      <th>4</th>\n",
       "      <td>4</td>\n",
       "      <td>2018-02-02</td>\n",
       "      <td>69.50</td>\n",
       "      <td>2018-02-02</td>\n",
       "    </tr>\n",
       "    <tr>\n",
       "      <th>...</th>\n",
       "      <td>...</td>\n",
       "      <td>...</td>\n",
       "      <td>...</td>\n",
       "      <td>...</td>\n",
       "    </tr>\n",
       "    <tr>\n",
       "      <th>285</th>\n",
       "      <td>285</td>\n",
       "      <td>2023-06-23</td>\n",
       "      <td>155.50</td>\n",
       "      <td>2023-06-23</td>\n",
       "    </tr>\n",
       "    <tr>\n",
       "      <th>286</th>\n",
       "      <td>286</td>\n",
       "      <td>2023-06-30</td>\n",
       "      <td>195.50</td>\n",
       "      <td>2023-06-30</td>\n",
       "    </tr>\n",
       "    <tr>\n",
       "      <th>287</th>\n",
       "      <td>287</td>\n",
       "      <td>2023-07-07</td>\n",
       "      <td>149.00</td>\n",
       "      <td>2023-07-07</td>\n",
       "    </tr>\n",
       "    <tr>\n",
       "      <th>288</th>\n",
       "      <td>288</td>\n",
       "      <td>2023-07-14</td>\n",
       "      <td>160.50</td>\n",
       "      <td>2023-07-14</td>\n",
       "    </tr>\n",
       "    <tr>\n",
       "      <th>289</th>\n",
       "      <td>289</td>\n",
       "      <td>2023-07-21</td>\n",
       "      <td>0.00</td>\n",
       "      <td>2023-07-21</td>\n",
       "    </tr>\n",
       "  </tbody>\n",
       "</table>\n",
       "<p>290 rows × 4 columns</p>\n",
       "</div>"
      ],
      "text/plain": [
       "     index week_ending_dt  EASE_Outs week_end_date\n",
       "0        0     2018-01-05      15.50    2018-01-05\n",
       "1        1     2018-01-12      41.50    2018-01-12\n",
       "2        2     2018-01-19      37.97    2018-01-19\n",
       "3        3     2018-01-26      38.96    2018-01-26\n",
       "4        4     2018-02-02      69.50    2018-02-02\n",
       "..     ...            ...        ...           ...\n",
       "285    285     2023-06-23     155.50    2023-06-23\n",
       "286    286     2023-06-30     195.50    2023-06-30\n",
       "287    287     2023-07-07     149.00    2023-07-07\n",
       "288    288     2023-07-14     160.50    2023-07-14\n",
       "289    289     2023-07-21       0.00    2023-07-21\n",
       "\n",
       "[290 rows x 4 columns]"
      ]
     },
     "execution_count": 15,
     "metadata": {},
     "output_type": "execute_result"
    }
   ],
   "source": [
    "rcc_sorted_dfn= rcc_new_dfn.sort_values(by='week_end_date')\n",
    "rcc_sorted_dfn.reset_index()\n",
    "\n",
    "hcc_sorted_dfn= hcc_new_dfn.sort_values(by='week_end_date')\n",
    "hcc_sorted_dfn.reset_index()\n",
    "\n",
    "dtc_sorted_dfn= dtc_new_dfn.sort_values(by='week_end_date')\n",
    "dtc_sorted_dfn.reset_index()\n",
    "\n",
    "ease_sorted_dfn= ease_new_dfn.sort_values(by='week_end_date')\n",
    "ease_sorted_dfn.reset_index()"
   ]
  },
  {
   "cell_type": "code",
   "execution_count": 16,
   "id": "7c273176-5237-4e44-b885-d64082d7acec",
   "metadata": {
    "tags": []
   },
   "outputs": [],
   "source": [
    "rcc_master_dataframe_comm= rcc_sorted_dfn[['week_end_date','RCC_Outs']]\n",
    "hcc_master_dataframe_comm= hcc_sorted_dfn[['week_end_date','HCC_Outs']]\n",
    "dtc_master_dataframe_comm= dtc_sorted_dfn[['week_end_date','DTC_Outs']]\n",
    "ease_master_dataframe_comm= ease_sorted_dfn[['week_end_date','EASE_Outs']]"
   ]
  },
  {
   "cell_type": "code",
   "execution_count": 17,
   "id": "017122f0-0cce-4019-a925-1fd6c376e26a",
   "metadata": {
    "tags": []
   },
   "outputs": [
    {
     "name": "stderr",
     "output_type": "stream",
     "text": [
      "/opt/conda/lib/python3.7/site-packages/ipykernel_launcher.py:1: SettingWithCopyWarning: \n",
      "A value is trying to be set on a copy of a slice from a DataFrame.\n",
      "Try using .loc[row_indexer,col_indexer] = value instead\n",
      "\n",
      "See the caveats in the documentation: https://pandas.pydata.org/pandas-docs/stable/user_guide/indexing.html#returning-a-view-versus-a-copy\n",
      "  \"\"\"Entry point for launching an IPython kernel.\n",
      "/opt/conda/lib/python3.7/site-packages/ipykernel_launcher.py:2: SettingWithCopyWarning: \n",
      "A value is trying to be set on a copy of a slice from a DataFrame.\n",
      "Try using .loc[row_indexer,col_indexer] = value instead\n",
      "\n",
      "See the caveats in the documentation: https://pandas.pydata.org/pandas-docs/stable/user_guide/indexing.html#returning-a-view-versus-a-copy\n",
      "  \n",
      "/opt/conda/lib/python3.7/site-packages/ipykernel_launcher.py:3: SettingWithCopyWarning: \n",
      "A value is trying to be set on a copy of a slice from a DataFrame.\n",
      "Try using .loc[row_indexer,col_indexer] = value instead\n",
      "\n",
      "See the caveats in the documentation: https://pandas.pydata.org/pandas-docs/stable/user_guide/indexing.html#returning-a-view-versus-a-copy\n",
      "  This is separate from the ipykernel package so we can avoid doing imports until\n",
      "/opt/conda/lib/python3.7/site-packages/ipykernel_launcher.py:4: SettingWithCopyWarning: \n",
      "A value is trying to be set on a copy of a slice from a DataFrame.\n",
      "Try using .loc[row_indexer,col_indexer] = value instead\n",
      "\n",
      "See the caveats in the documentation: https://pandas.pydata.org/pandas-docs/stable/user_guide/indexing.html#returning-a-view-versus-a-copy\n",
      "  after removing the cwd from sys.path.\n"
     ]
    }
   ],
   "source": [
    "rcc_master_dataframe_comm['RCC_Outs'] = rcc_master_dataframe_comm['RCC_Outs'].apply(np.ceil)\n",
    "hcc_master_dataframe_comm['HCC_Outs'] = hcc_master_dataframe_comm['HCC_Outs'].apply(np.ceil)\n",
    "dtc_master_dataframe_comm['DTC_Outs'] = dtc_master_dataframe_comm['DTC_Outs'].apply(np.ceil)\n",
    "ease_master_dataframe_comm['EASE_Outs'] = ease_master_dataframe_comm['EASE_Outs'].apply(np.ceil)"
   ]
  },
  {
   "cell_type": "code",
   "execution_count": 18,
   "id": "df0650aa-e9cb-49e7-9758-5779f254cb5e",
   "metadata": {
    "tags": []
   },
   "outputs": [],
   "source": [
    "rcc_master_dataframe_comm = rcc_master_dataframe_comm.astype({\"RCC_Outs\": int})\n",
    "hcc_master_dataframe_comm = hcc_master_dataframe_comm.astype({\"HCC_Outs\": int})\n",
    "dtc_master_dataframe_comm = dtc_master_dataframe_comm.astype({\"DTC_Outs\": int})\n",
    "ease_master_dataframe_comm = ease_master_dataframe_comm.astype({\"EASE_Outs\": int})"
   ]
  },
  {
   "cell_type": "code",
   "execution_count": 19,
   "id": "578a6dfd-f21c-4bcf-9111-21672519f2c0",
   "metadata": {
    "tags": []
   },
   "outputs": [],
   "source": [
    "rcc_master_dataframe_cabo = rcc_master_dataframe_comm[['week_end_date','RCC_Outs']]\n",
    "hcc_master_dataframe_cabo = hcc_master_dataframe_comm[['week_end_date','HCC_Outs']]\n",
    "dtc_master_dataframe_cabo = dtc_master_dataframe_comm[['week_end_date','DTC_Outs']]\n",
    "ease_master_dataframe_cabo = ease_master_dataframe_comm[['week_end_date','EASE_Outs']]"
   ]
  },
  {
   "cell_type": "code",
   "execution_count": 20,
   "id": "0263a020-6682-4b9e-b40d-a4e40b35c8b3",
   "metadata": {
    "tags": []
   },
   "outputs": [],
   "source": [
    "rcc_master_dataframe_cabo['week_end_date']=pd.to_datetime(rcc_master_dataframe_cabo['week_end_date'])\n",
    "hcc_master_dataframe_cabo['week_end_date']=pd.to_datetime(hcc_master_dataframe_cabo['week_end_date'])\n",
    "dtc_master_dataframe_cabo['week_end_date']=pd.to_datetime(dtc_master_dataframe_cabo['week_end_date'])\n",
    "ease_master_dataframe_cabo['week_end_date']=pd.to_datetime(ease_master_dataframe_cabo['week_end_date'])"
   ]
  },
  {
   "cell_type": "code",
   "execution_count": 21,
   "id": "6e07fab3-0c7e-419e-bb5e-7925464c310f",
   "metadata": {
    "tags": []
   },
   "outputs": [],
   "source": [
    "rcc_new_df1 = rcc_master_dataframe_cabo[rcc_master_dataframe_cabo['week_end_date'] > '2021-01-01']\n",
    "hcc_new_df1 = hcc_master_dataframe_cabo[hcc_master_dataframe_cabo['week_end_date'] > '2021-01-01']\n",
    "dtc_new_df1 = dtc_master_dataframe_cabo[dtc_master_dataframe_cabo['week_end_date'] > '2021-01-01']\n",
    "ease_new_df1 = ease_master_dataframe_cabo[ease_master_dataframe_cabo['week_end_date'] > '2021-01-01']"
   ]
  },
  {
   "cell_type": "code",
   "execution_count": 22,
   "id": "cfdd906c-cf99-44b8-a901-3d02cb3fec94",
   "metadata": {
    "tags": []
   },
   "outputs": [],
   "source": [
    "#Set date column as the index\n",
    "rcc_new_df =rcc_new_df1.set_index('week_end_date')\n",
    "hcc_new_df =hcc_new_df1.set_index('week_end_date')\n",
    "dtc_new_df =dtc_new_df1.set_index('week_end_date')\n",
    "ease_new_df =ease_new_df1.set_index('week_end_date')"
   ]
  },
  {
   "cell_type": "code",
   "execution_count": 23,
   "id": "185e5206-27ea-4863-ad9b-628aa4356ea7",
   "metadata": {
    "tags": []
   },
   "outputs": [],
   "source": [
    "rcc_a = rcc_master_dataframe_cabo.tail(1)\n",
    "hcc_a = hcc_master_dataframe_cabo.tail(1)\n",
    "dtc_a = dtc_master_dataframe_cabo.tail(1)\n",
    "ease_a = ease_master_dataframe_cabo.tail(1)"
   ]
  },
  {
   "cell_type": "code",
   "execution_count": 24,
   "id": "a7ff4ce8-0220-4b39-8de6-c694a301eb93",
   "metadata": {
    "tags": []
   },
   "outputs": [],
   "source": [
    "\n",
    "rcc_train  = rcc_new_df[(rcc_new_df.index.get_level_values(0) >= rcc_a['week_end_date'].iloc[0] - timedelta(days=736) ) & (rcc_new_df.index.get_level_values(0) < rcc_a['week_end_date'].iloc[0])]\n",
    "\n",
    "hcc_train  = hcc_new_df[(hcc_new_df.index.get_level_values(0) >= hcc_a['week_end_date'].iloc[0] - timedelta(days=736) ) & (hcc_new_df.index.get_level_values(0) < hcc_a['week_end_date'].iloc[0])]\n",
    "\n",
    "dtc_train  = dtc_new_df[(dtc_new_df.index.get_level_values(0) >= dtc_a['week_end_date'].iloc[0] - timedelta(days=736) ) & (dtc_new_df.index.get_level_values(0) < dtc_a['week_end_date'].iloc[0])]\n",
    "\n",
    "ease_train = ease_new_df[(ease_new_df.index.get_level_values(0) >= ease_a['week_end_date'].iloc[0] - timedelta(days=736) ) & (ease_new_df.index.get_level_values(0) < ease_a['week_end_date'].iloc[0])]\n"
   ]
  },
  {
   "cell_type": "code",
   "execution_count": 25,
   "id": "48d8dd64-35bb-4e07-871e-34d7fb05473d",
   "metadata": {
    "tags": []
   },
   "outputs": [
    {
     "name": "stderr",
     "output_type": "stream",
     "text": [
      "/opt/conda/lib/python3.7/site-packages/statsmodels/tsa/base/tsa_model.py:471: ValueWarning: No frequency information was provided, so inferred frequency W-FRI will be used.\n",
      "  self._init_dates(dates, freq)\n",
      "/opt/conda/lib/python3.7/site-packages/statsmodels/tsa/holtwinters/model.py:83: RuntimeWarning: overflow encountered in matmul\n",
      "  return err.T @ err\n"
     ]
    },
    {
     "data": {
      "text/plain": [
       "Text(0.5, 1.0, 'Train, Test and Predicted Test using Holt Winters')"
      ]
     },
     "execution_count": 25,
     "metadata": {},
     "output_type": "execute_result"
    }
   ],
   "source": [
    "#RCC Model\n",
    "\n",
    "rcc_fitted_model = ExponentialSmoothing(rcc_train['RCC_Outs'],trend='mul',seasonal='mul',seasonal_periods=12).fit()\n",
    "rcc_test_predictions = rcc_fitted_model.forecast(52)\n",
    "rcc_train['RCC_Outs'].plot(legend=True,label='TRAIN')\n",
    "rcc_test_predictions.plot(legend=True,label='PREDICTION')\n",
    "plt.title('Train, Test and Predicted Test using Holt Winters')\n",
    "\n"
   ]
  },
  {
   "cell_type": "code",
   "execution_count": 26,
   "id": "bd00173e-b4dc-496f-a6b7-ccd27a2b2638",
   "metadata": {
    "tags": []
   },
   "outputs": [
    {
     "name": "stderr",
     "output_type": "stream",
     "text": [
      "/opt/conda/lib/python3.7/site-packages/statsmodels/tsa/base/tsa_model.py:471: ValueWarning: No frequency information was provided, so inferred frequency W-FRI will be used.\n",
      "  self._init_dates(dates, freq)\n"
     ]
    },
    {
     "data": {
      "text/plain": [
       "Text(0.5, 1, 'Train, Test and Predicted Test using Holt Winters')"
      ]
     },
     "execution_count": 26,
     "metadata": {},
     "output_type": "execute_result"
    }
   ],
   "source": [
    "#HCC Model\n",
    "\n",
    "hcc_fitted_model = ExponentialSmoothing(hcc_train['HCC_Outs'],trend='mul',seasonal='mul',seasonal_periods=12).fit()\n",
    "hcc_test_predictions = hcc_fitted_model.forecast(52)\n",
    "hcc_train['HCC_Outs'].plot(legend=True,label='TRAIN')\n",
    "hcc_test_predictions.plot(legend=True,label='PREDICTION')\n",
    "plt.title('Train, Test and Predicted Test using Holt Winters')\n"
   ]
  },
  {
   "cell_type": "code",
   "execution_count": 27,
   "id": "caa02dad-5ad1-422c-bb4c-d66658403cb1",
   "metadata": {
    "tags": []
   },
   "outputs": [
    {
     "name": "stderr",
     "output_type": "stream",
     "text": [
      "/opt/conda/lib/python3.7/site-packages/statsmodels/tsa/base/tsa_model.py:471: ValueWarning: No frequency information was provided, so inferred frequency W-FRI will be used.\n",
      "  self._init_dates(dates, freq)\n"
     ]
    },
    {
     "data": {
      "text/plain": [
       "Text(0.5, 1, 'Train, Test and Predicted Test using Holt Winters')"
      ]
     },
     "execution_count": 27,
     "metadata": {},
     "output_type": "execute_result"
    }
   ],
   "source": [
    "#DTC Model\n",
    "\n",
    "dtc_fitted_model = ExponentialSmoothing(dtc_train['DTC_Outs'],trend='add',seasonal='add',seasonal_periods=12).fit()\n",
    "dtc_test_predictions = dtc_fitted_model.forecast(52)\n",
    "dtc_train['DTC_Outs'].plot(legend=True,label='TRAIN')\n",
    "dtc_test_predictions.plot(legend=True,label='PREDICTION')\n",
    "plt.title('Train, Test and Predicted Test using Holt Winters')\n",
    "\n"
   ]
  },
  {
   "cell_type": "code",
   "execution_count": 28,
   "id": "608ce915-365b-4e77-907d-baaae77840ac",
   "metadata": {
    "tags": []
   },
   "outputs": [
    {
     "name": "stderr",
     "output_type": "stream",
     "text": [
      "/opt/conda/lib/python3.7/site-packages/statsmodels/tsa/base/tsa_model.py:471: ValueWarning: No frequency information was provided, so inferred frequency W-FRI will be used.\n",
      "  self._init_dates(dates, freq)\n",
      "/opt/conda/lib/python3.7/site-packages/statsmodels/tsa/holtwinters/model.py:83: RuntimeWarning: overflow encountered in matmul\n",
      "  return err.T @ err\n"
     ]
    },
    {
     "data": {
      "text/plain": [
       "Text(0.5, 1, 'Train, Test and Predicted Test using Holt Winters')"
      ]
     },
     "execution_count": 28,
     "metadata": {},
     "output_type": "execute_result"
    }
   ],
   "source": [
    "#EASE Model\n",
    "\n",
    "ease_fitted_model = ExponentialSmoothing(ease_train['EASE_Outs'],trend='mul',seasonal='mul',seasonal_periods=12).fit()\n",
    "ease_test_predictions = ease_fitted_model.forecast(52)\n",
    "ease_train['EASE_Outs'].plot(legend=True,label='TRAIN')\n",
    "ease_test_predictions.plot(legend=True,label='PREDICTION')\n",
    "plt.title('Train, Test and Predicted Test using Holt Winters')\n"
   ]
  },
  {
   "cell_type": "code",
   "execution_count": 29,
   "id": "2af1c1a6-3433-42cc-b194-e55fded6c3e0",
   "metadata": {
    "tags": []
   },
   "outputs": [],
   "source": [
    "from datetime import date\n",
    "a = date(date.today().year, 1, 1)"
   ]
  },
  {
   "cell_type": "code",
   "execution_count": 30,
   "id": "4758bde9-9f83-44f3-b303-6b4e2d7428b3",
   "metadata": {
    "tags": []
   },
   "outputs": [],
   "source": [
    "forecast_range=pd.date_range(start=a, periods=52, freq='W-FRI')"
   ]
  },
  {
   "cell_type": "code",
   "execution_count": 31,
   "id": "fde5ba9a-75cf-49bd-9acb-cba99babbf24",
   "metadata": {
    "tags": []
   },
   "outputs": [],
   "source": [
    "#RCC\n",
    "rcc_forecast1_df = pd.DataFrame(rcc_test_predictions,index= forecast_range, columns=['Prediction'])\n",
    "rcc_forecast1_df.dropna(inplace=True)\n",
    "\n",
    "rcc_future_forecasts= pd.concat([rcc_new_df['RCC_Outs'].iloc[:-1],rcc_forecast1_df],axis=1)"
   ]
  },
  {
   "cell_type": "code",
   "execution_count": 32,
   "id": "cd666bf2-0075-4504-95e4-ac8154d70c9b",
   "metadata": {},
   "outputs": [],
   "source": [
    "#HCC\n",
    "hcc_forecast1_df = pd.DataFrame(hcc_test_predictions,index= forecast_range, columns=['Prediction'])\n",
    "hcc_forecast1_df.dropna(inplace=True)\n",
    "\n",
    "hcc_future_forecasts= pd.concat([hcc_new_df['HCC_Outs'].iloc[:-1],hcc_forecast1_df],axis=1)"
   ]
  },
  {
   "cell_type": "code",
   "execution_count": 33,
   "id": "d28b8c56-2035-4c1b-9ca8-abdf1ee1322e",
   "metadata": {
    "tags": []
   },
   "outputs": [],
   "source": [
    "#DTC \n",
    "dtc_forecast1_df = pd.DataFrame(dtc_test_predictions,index= forecast_range, columns=['Prediction'])\n",
    "dtc_forecast1_df.dropna(inplace=True)\n",
    "\n",
    "dtc_future_forecasts= pd.concat([dtc_new_df['DTC_Outs'].iloc[:-1],dtc_forecast1_df],axis=1)"
   ]
  },
  {
   "cell_type": "code",
   "execution_count": 34,
   "id": "09003d90-f5a9-4f51-92bc-a0f51809ff78",
   "metadata": {
    "tags": []
   },
   "outputs": [],
   "source": [
    "ease_forecast1_df = pd.DataFrame(ease_test_predictions,index= forecast_range, columns=['Prediction'])\n",
    "ease_forecast1_df.dropna(inplace=True)\n",
    "\n",
    "ease_future_forecasts= pd.concat([ease_new_df['EASE_Outs'].iloc[:-1],ease_forecast1_df],axis=1)"
   ]
  },
  {
   "cell_type": "code",
   "execution_count": 35,
   "id": "846eb570-bebe-491c-ac77-38aed7965145",
   "metadata": {
    "tags": []
   },
   "outputs": [],
   "source": [
    "\n",
    "rcc_future_forecasts['Forecast_totals'] = rcc_future_forecasts.fillna(0)['RCC_Outs'] + rcc_future_forecasts.fillna(0)['Prediction']\n",
    "hcc_future_forecasts['Forecast_totals'] = hcc_future_forecasts.fillna(0)['HCC_Outs'] + hcc_future_forecasts.fillna(0)['Prediction']\n",
    "dtc_future_forecasts['Forecast_totals'] = dtc_future_forecasts.fillna(0)['DTC_Outs'] + dtc_future_forecasts.fillna(0)['Prediction']\n",
    "ease_future_forecasts['Forecast_totals'] = ease_future_forecasts.fillna(0)['EASE_Outs'] + ease_future_forecasts.fillna(0)['Prediction']\n"
   ]
  },
  {
   "cell_type": "code",
   "execution_count": 36,
   "id": "c0993fea-5ac0-4dba-9081-65f7a08a4d33",
   "metadata": {
    "tags": []
   },
   "outputs": [],
   "source": [
    "s_e=rcc_train\n",
    "s_e=s_e.reset_index()\n",
    "s= s_e.head(1)\n",
    "e= s_e.tail(1)"
   ]
  },
  {
   "cell_type": "code",
   "execution_count": 37,
   "id": "50e881ec-439c-4033-be49-328b279fa560",
   "metadata": {
    "tags": []
   },
   "outputs": [],
   "source": [
    "#RCC\n",
    "\n",
    "rcc_df_Fut = rcc_future_forecasts.reset_index()\n",
    "rcc_df_Fut.rename(columns = {'index':'Date'}, inplace = True)\n",
    "rcc_df_Fut['Year'] = pd.PeriodIndex(rcc_df_Fut.Date, freq='Y')\n",
    "rcc_df_Fut['Quarter'] = rcc_df_Fut.Date.dt.quarter\n",
    "weekend= rcc_master_dataframe_cabo.tail(2)\n",
    "rcc_df_Fut['Week_Ending_date'] = weekend['week_end_date'].iloc[0]\n",
    "rcc_df_Fut['Training_Start_date'] = s['week_end_date'].iloc[0]\n",
    "rcc_df_Fut['Training_End_date'] = e['week_end_date'].iloc[0]\n",
    "rcc_df_Fut['Sales_Type'] = 'COMMERCIAL'\n",
    "rcc_df_Fut['Model_Type'] = 'RCC-HOLT'\n",
    "\n"
   ]
  },
  {
   "cell_type": "code",
   "execution_count": 38,
   "id": "b1f01ac4-740b-4245-bd5f-714a4aed70c6",
   "metadata": {
    "tags": []
   },
   "outputs": [],
   "source": [
    "#HCC\n",
    "\n",
    "hcc_df_Fut = hcc_future_forecasts.reset_index()\n",
    "hcc_df_Fut.rename(columns = {'index':'Date'}, inplace = True)\n",
    "hcc_df_Fut['Year'] = pd.PeriodIndex(hcc_df_Fut.Date, freq='Y')\n",
    "hcc_df_Fut['Quarter'] = hcc_df_Fut.Date.dt.quarter\n",
    "weekend= hcc_master_dataframe_cabo.tail(2)\n",
    "hcc_df_Fut['Week_Ending_date'] = weekend['week_end_date'].iloc[0]\n",
    "hcc_df_Fut['Training_Start_date'] = s['week_end_date'].iloc[0]\n",
    "hcc_df_Fut['Training_End_date'] = e['week_end_date'].iloc[0]\n",
    "hcc_df_Fut['Sales_Type'] = 'COMMERCIAL'\n",
    "hcc_df_Fut['Model_Type'] = 'HCC-HOLT'\n",
    "\n"
   ]
  },
  {
   "cell_type": "code",
   "execution_count": 39,
   "id": "4a39e053-4ab9-40d5-bea3-078d218df1fb",
   "metadata": {
    "tags": []
   },
   "outputs": [],
   "source": [
    "#DTC\n",
    "\n",
    "dtc_df_Fut = dtc_future_forecasts.reset_index()\n",
    "dtc_df_Fut.rename(columns = {'index':'Date'}, inplace = True)\n",
    "dtc_df_Fut['Year'] = pd.PeriodIndex(dtc_df_Fut.Date, freq='Y')\n",
    "dtc_df_Fut['Quarter'] = dtc_df_Fut.Date.dt.quarter\n",
    "weekend= dtc_master_dataframe_cabo.tail(2)\n",
    "dtc_df_Fut['Week_Ending_date'] = weekend['week_end_date'].iloc[0]\n",
    "dtc_df_Fut['Training_Start_date'] = s['week_end_date'].iloc[0]\n",
    "dtc_df_Fut['Training_End_date'] = e['week_end_date'].iloc[0]\n",
    "dtc_df_Fut['Sales_Type'] = 'COMMERCIAL'\n",
    "dtc_df_Fut['Model_Type'] = 'DTC-HOLT'\n",
    "\n"
   ]
  },
  {
   "cell_type": "code",
   "execution_count": 40,
   "id": "f700d983-e58c-4c31-8349-3380c087021b",
   "metadata": {
    "tags": []
   },
   "outputs": [],
   "source": [
    "#EASE\n",
    "\n",
    "ease_df_Fut = ease_future_forecasts.reset_index()\n",
    "ease_df_Fut.rename(columns = {'index':'Date'}, inplace = True)\n",
    "ease_df_Fut['Year'] = pd.PeriodIndex(ease_df_Fut.Date, freq='Y')\n",
    "ease_df_Fut['Quarter'] = ease_df_Fut.Date.dt.quarter\n",
    "weekend= ease_master_dataframe_cabo.tail(2)\n",
    "ease_df_Fut['Week_Ending_date'] = weekend['week_end_date'].iloc[0]\n",
    "ease_df_Fut['Training_Start_date'] = s['week_end_date'].iloc[0]\n",
    "ease_df_Fut['Training_End_date'] = e['week_end_date'].iloc[0]\n",
    "ease_df_Fut['Sales_Type'] = 'EASE'\n",
    "ease_df_Fut['Model_Type'] = 'EASE-HOLT'\n",
    "\n"
   ]
  },
  {
   "cell_type": "code",
   "execution_count": 41,
   "id": "3598ab8e-7582-4e30-b4a6-07b63329b07c",
   "metadata": {
    "tags": []
   },
   "outputs": [],
   "source": [
    "\n",
    "rcc_hcc_one = rcc_df_Fut.append(hcc_df_Fut)\n",
    "rcc_hcc_dtc = rcc_hcc_one.append(dtc_df_Fut)\n",
    "all_one = rcc_hcc_dtc.append(ease_df_Fut)\n"
   ]
  },
  {
   "cell_type": "code",
   "execution_count": 42,
   "id": "4aa0ce81-cd92-4caa-b2b6-385ff7219543",
   "metadata": {
    "tags": []
   },
   "outputs": [],
   "source": [
    "final_df= all_one[['Date','Year','Quarter','Week_Ending_date','Sales_Type','Model_Type','Training_Start_date','Training_End_date','RCC_Outs','HCC_Outs','DTC_Outs','EASE_Outs','Prediction','Forecast_totals']]"
   ]
  },
  {
   "cell_type": "code",
   "execution_count": 43,
   "id": "bb91fbf9-bde8-4e5f-aae9-2eb569470922",
   "metadata": {
    "tags": []
   },
   "outputs": [],
   "source": [
    "final_df.reset_index(drop=True, inplace=True)"
   ]
  },
  {
   "cell_type": "code",
   "execution_count": 44,
   "id": "eb1c3ca8-b6b5-49c8-ad62-6a9be0d88093",
   "metadata": {
    "tags": []
   },
   "outputs": [],
   "source": [
    "s_e=final_df\n",
    "s_e=s_e.reset_index()\n",
    "e= s_e.Week_Ending_date.iloc[0]"
   ]
  },
  {
   "cell_type": "code",
   "execution_count": 45,
   "id": "8dfbddf3-37f2-46d3-bc94-47bdf3508a7f",
   "metadata": {
    "tags": []
   },
   "outputs": [],
   "source": [
    "file_name_1 = \"HOLT_WINTERS_FORECAST.csv\"\n",
    "final_df.to_csv(file_name_1,index=False)"
   ]
  },
  {
   "cell_type": "code",
   "execution_count": 46,
   "id": "dd9acd8c-015a-4cd7-82c8-b7817512ca08",
   "metadata": {
    "tags": []
   },
   "outputs": [],
   "source": [
    "a = 'HOLT_WINTERS_FORECAST.csv'\n",
    "b = str(e)"
   ]
  },
  {
   "cell_type": "code",
   "execution_count": 47,
   "id": "5b240058-51d6-43db-acf2-513631d95e49",
   "metadata": {
    "tags": []
   },
   "outputs": [],
   "source": [
    "s3 = boto3.resource('s3')\n",
    "s3.meta.client.upload_file(file_name_1, 'forecastingpoc', 'inputfiles/'+b+' - '+a)"
   ]
  },
  {
   "cell_type": "code",
   "execution_count": null,
   "id": "0c48b122-16ac-40a1-a5bd-181281af091b",
   "metadata": {},
   "outputs": [],
   "source": []
  }
 ],
 "metadata": {
  "instance_type": "ml.g4dn.xlarge",
  "kernelspec": {
   "display_name": "Python 3 (Data Science)",
   "language": "python",
   "name": "python3__SAGEMAKER_INTERNAL__arn:aws:sagemaker:us-west-2:236514542706:image/datascience-1.0"
  },
  "language_info": {
   "codemirror_mode": {
    "name": "ipython",
    "version": 3
   },
   "file_extension": ".py",
   "mimetype": "text/x-python",
   "name": "python",
   "nbconvert_exporter": "python",
   "pygments_lexer": "ipython3",
   "version": "3.7.10"
  }
 },
 "nbformat": 4,
 "nbformat_minor": 5
}
