{
 "cells": [
  {
   "cell_type": "code",
   "execution_count": 31,
   "id": "a8cc7d7f-ba30-49d7-a30b-f78486638a8e",
   "metadata": {
    "tags": []
   },
   "outputs": [
    {
     "name": "stdout",
     "output_type": "stream",
     "text": [
      "Requirement already satisfied: pip in /opt/conda/lib/python3.7/site-packages (23.2)\n",
      "\u001b[33mDEPRECATION: pyodbc 4.0.0-unsupported has a non-standard version number. pip 23.3 will enforce this behaviour change. A possible replacement is to upgrade to a newer version of pyodbc or contact the author to suggest that they release a version with a conforming version number. Discussion can be found at https://github.com/pypa/pip/issues/12063\u001b[0m\u001b[33m\n",
      "\u001b[0m\u001b[33mWARNING: Running pip as the 'root' user can result in broken permissions and conflicting behaviour with the system package manager. It is recommended to use a virtual environment instead: https://pip.pypa.io/warnings/venv\u001b[0m\u001b[33m\n",
      "\u001b[0mRequirement already satisfied: pmdarima in /opt/conda/lib/python3.7/site-packages (2.0.3)\n",
      "Requirement already satisfied: joblib>=0.11 in /opt/conda/lib/python3.7/site-packages (from pmdarima) (1.2.0)\n",
      "Requirement already satisfied: Cython!=0.29.18,!=0.29.31,>=0.29 in /opt/conda/lib/python3.7/site-packages (from pmdarima) (0.29.15)\n",
      "Requirement already satisfied: numpy>=1.21.2 in /opt/conda/lib/python3.7/site-packages (from pmdarima) (1.21.6)\n",
      "Requirement already satisfied: pandas>=0.19 in /opt/conda/lib/python3.7/site-packages (from pmdarima) (1.3.5)\n",
      "Requirement already satisfied: scikit-learn>=0.22 in /opt/conda/lib/python3.7/site-packages (from pmdarima) (0.22.1)\n",
      "Requirement already satisfied: scipy>=1.3.2 in /opt/conda/lib/python3.7/site-packages (from pmdarima) (1.4.1)\n",
      "Requirement already satisfied: statsmodels>=0.13.2 in /opt/conda/lib/python3.7/site-packages (from pmdarima) (0.13.5)\n",
      "Requirement already satisfied: urllib3 in /opt/conda/lib/python3.7/site-packages (from pmdarima) (2.0.3)\n",
      "Requirement already satisfied: setuptools!=50.0.0,>=38.6.0 in /opt/conda/lib/python3.7/site-packages (from pmdarima) (65.5.1)\n",
      "Requirement already satisfied: python-dateutil>=2.7.3 in /opt/conda/lib/python3.7/site-packages (from pandas>=0.19->pmdarima) (2.8.2)\n",
      "Requirement already satisfied: pytz>=2017.3 in /opt/conda/lib/python3.7/site-packages (from pandas>=0.19->pmdarima) (2019.3)\n",
      "Requirement already satisfied: patsy>=0.5.2 in /opt/conda/lib/python3.7/site-packages (from statsmodels>=0.13.2->pmdarima) (0.5.3)\n",
      "Requirement already satisfied: packaging>=21.3 in /opt/conda/lib/python3.7/site-packages (from statsmodels>=0.13.2->pmdarima) (23.1)\n",
      "Requirement already satisfied: six in /opt/conda/lib/python3.7/site-packages (from patsy>=0.5.2->statsmodels>=0.13.2->pmdarima) (1.14.0)\n",
      "\u001b[33mDEPRECATION: pyodbc 4.0.0-unsupported has a non-standard version number. pip 23.3 will enforce this behaviour change. A possible replacement is to upgrade to a newer version of pyodbc or contact the author to suggest that they release a version with a conforming version number. Discussion can be found at https://github.com/pypa/pip/issues/12063\u001b[0m\u001b[33m\n",
      "\u001b[0m\u001b[33mWARNING: Running pip as the 'root' user can result in broken permissions and conflicting behaviour with the system package manager. It is recommended to use a virtual environment instead: https://pip.pypa.io/warnings/venv\u001b[0m\u001b[33m\n",
      "\u001b[0mRequirement already satisfied: psycopg2-binary in /opt/conda/lib/python3.7/site-packages (2.9.6)\n",
      "\u001b[33mDEPRECATION: pyodbc 4.0.0-unsupported has a non-standard version number. pip 23.3 will enforce this behaviour change. A possible replacement is to upgrade to a newer version of pyodbc or contact the author to suggest that they release a version with a conforming version number. Discussion can be found at https://github.com/pypa/pip/issues/12063\u001b[0m\u001b[33m\n",
      "\u001b[0m\u001b[33mWARNING: Running pip as the 'root' user can result in broken permissions and conflicting behaviour with the system package manager. It is recommended to use a virtual environment instead: https://pip.pypa.io/warnings/venv\u001b[0m\u001b[33m\n",
      "\u001b[0m"
     ]
    }
   ],
   "source": [
    "!pip install --upgrade pip\n",
    "!pip install pmdarima\n",
    "!pip install psycopg2-binary"
   ]
  },
  {
   "cell_type": "code",
   "execution_count": 50,
   "id": "630a7169-7824-441f-a10e-f4cb5ba0b41f",
   "metadata": {
    "tags": []
   },
   "outputs": [],
   "source": [
    "#Import Python Packages\n",
    "import matplotlib as mpl\n",
    "import matplotlib.pyplot as plt\n",
    "import numpy as np\n",
    "import os\n",
    "import math\n",
    "from datetime import datetime, timedelta\n",
    "import pandas as pd\n",
    "import time\n",
    "import psycopg2\n",
    "import pmdarima as pm\n",
    "import boto3\n",
    "\n",
    "mpl.rcParams['figure.figsize'] = (10, 8)\n",
    "mpl.rcParams['axes.grid'] = False"
   ]
  },
  {
   "cell_type": "code",
   "execution_count": 51,
   "id": "c2689070-0f52-4cb5-af98-680ca02d8512",
   "metadata": {
    "tags": []
   },
   "outputs": [],
   "source": [
    "# Put the ARN of your AWS Secrets Manager secret for your redshift cluster here:\n",
    "secret_name=\"arn:aws:secretsmanager:us-west-2:451614664738:secret:ForecastingSecret-JRCdLL\"\n",
    "\n",
    "# This will get the secret from AWS Secrets Manager. \n",
    "import boto3\n",
    "import json\n",
    "\n",
    "session = boto3.session.Session()\n",
    "client = session.client(\n",
    "    service_name='secretsmanager'\n",
    ")\n",
    "\n",
    "get_secret_value_response = client.get_secret_value(\n",
    "    SecretId=secret_name\n",
    ")\n",
    "\n",
    "if 'SecretString' in get_secret_value_response:\n",
    "    connection_info = json.loads(get_secret_value_response['SecretString'])\n",
    "else:\n",
    "    print(\"ERROR: no secret data found\")"
   ]
  },
  {
   "cell_type": "code",
   "execution_count": 52,
   "id": "a3e5bfbe-b806-479e-bd4e-672a0e286c48",
   "metadata": {
    "tags": []
   },
   "outputs": [],
   "source": [
    "\n",
    "credentials=psycopg2.connect(\n",
    "    dbname   = 'exelredshift', \n",
    "    host     = connection_info[\"host\"], \n",
    "    port     = connection_info[\"port\"], \n",
    "    user     = connection_info[\"username\"], \n",
    "    password = connection_info[\"password\"]\n",
    ")"
   ]
  },
  {
   "cell_type": "code",
   "execution_count": 53,
   "id": "af992513-95a1-4fd3-8b6e-20856626bac3",
   "metadata": {
    "tags": []
   },
   "outputs": [],
   "source": [
    "# Read in your SQL query results using pandas\n",
    "\n",
    "df= pd.read_sql(\"\"\"\n",
    "            select * from edm.bl_cabo_rcc_hcc_nps\n",
    "            \"\"\", con = credentials)\n",
    "\n"
   ]
  },
  {
   "cell_type": "code",
   "execution_count": 54,
   "id": "b6749b7a-091c-4eb6-b89c-4e6096abffcc",
   "metadata": {
    "tags": []
   },
   "outputs": [],
   "source": [
    "selection_rcc_comm = df[['week_ending_dt','projected_sp_rcc_sales','projected_sd_rcc_sales']]\n",
    "selection_hcc_comm = df[['week_ending_dt','projected_sp_hcc_sales','projected_sd_hcc_sales']]\n",
    "selection_dtc_comm = df[['week_ending_dt','projected_sp_thy_sales','projected_sd_thy_sales']]\n",
    "selection_ease = df[['week_ending_dt','projected_ease_rcc_sales','projected_ease_hcc_sales','projected_ease_thy_sales']]\n"
   ]
  },
  {
   "cell_type": "code",
   "execution_count": 55,
   "id": "8e6c8cf4-3e5d-4611-ba37-08b1b15e348d",
   "metadata": {
    "tags": []
   },
   "outputs": [],
   "source": [
    "\n",
    "sorted_data_rcc_comm= selection_rcc_comm.sort_values(by='week_ending_dt')\n",
    "sorted_data_hcc_comm= selection_hcc_comm.sort_values(by='week_ending_dt')\n",
    "sorted_data_dtc_comm= selection_dtc_comm.sort_values(by='week_ending_dt')\n",
    "sorted_data_ease = selection_ease.sort_values(by='week_ending_dt')\n",
    "\n"
   ]
  },
  {
   "cell_type": "code",
   "execution_count": 56,
   "id": "6dfab861-c664-4595-b1c4-2af6e99ae976",
   "metadata": {
    "tags": []
   },
   "outputs": [],
   "source": [
    "\n",
    "rcc_agg_df= sorted_data_rcc_comm.groupby([\"week_ending_dt\"]).sum()\n",
    "hcc_agg_df= sorted_data_hcc_comm.groupby([\"week_ending_dt\"]).sum()\n",
    "dtc_agg_df= sorted_data_dtc_comm.groupby([\"week_ending_dt\"]).sum()\n",
    "ease_agg_df= sorted_data_ease.groupby([\"week_ending_dt\"]).sum()\n",
    "\n"
   ]
  },
  {
   "cell_type": "code",
   "execution_count": 10,
   "id": "2c3188b1-ece9-4b85-b4e3-3af982892f86",
   "metadata": {
    "tags": []
   },
   "outputs": [],
   "source": [
    "rcc_agg_sorted = rcc_agg_df.sort_values(by='week_ending_dt')\n",
    "hcc_agg_sorted = hcc_agg_df.sort_values(by='week_ending_dt')\n",
    "dtc_agg_sorted = dtc_agg_df.sort_values(by='week_ending_dt')\n",
    "ease_agg_sorted = ease_agg_df.sort_values(by='week_ending_dt')"
   ]
  },
  {
   "cell_type": "code",
   "execution_count": 11,
   "id": "6c992d12-3e6f-4b17-846d-0dea8899e9b4",
   "metadata": {
    "tags": []
   },
   "outputs": [],
   "source": [
    "rcc_dfn= rcc_agg_sorted.reset_index()\n",
    "hcc_dfn= hcc_agg_sorted.reset_index()\n",
    "dtc_dfn= dtc_agg_sorted.reset_index()\n",
    "ease_dfn= ease_agg_sorted.reset_index()"
   ]
  },
  {
   "cell_type": "code",
   "execution_count": 12,
   "id": "f56934cb-81da-4477-b22c-f34b5e50abdb",
   "metadata": {
    "tags": []
   },
   "outputs": [],
   "source": [
    "\n",
    "rcc_dfn['RCC_Outs'] = rcc_dfn['projected_sp_rcc_sales']+ rcc_dfn['projected_sd_rcc_sales']\n",
    "hcc_dfn['HCC_Outs'] = hcc_dfn['projected_sp_hcc_sales']+ hcc_dfn['projected_sd_hcc_sales']\n",
    "dtc_dfn['DTC_Outs'] = dtc_dfn['projected_sp_thy_sales']+ dtc_dfn['projected_sd_thy_sales']\n",
    "ease_dfn['EASE_Outs'] = ease_dfn['projected_ease_rcc_sales']+ ease_dfn['projected_ease_hcc_sales']+ ease_dfn['projected_ease_thy_sales']\n"
   ]
  },
  {
   "cell_type": "code",
   "execution_count": 13,
   "id": "1d40b4d1-880a-4674-beb2-abc1003aced1",
   "metadata": {
    "tags": []
   },
   "outputs": [],
   "source": [
    "\n",
    "rcc_new_dfn= rcc_dfn[['week_ending_dt', 'RCC_Outs']]\n",
    "hcc_new_dfn= hcc_dfn[['week_ending_dt', 'HCC_Outs']]\n",
    "dtc_new_dfn= dtc_dfn[['week_ending_dt', 'DTC_Outs']]\n",
    "ease_new_dfn= ease_dfn[['week_ending_dt', 'EASE_Outs']]\n"
   ]
  },
  {
   "cell_type": "code",
   "execution_count": 14,
   "id": "1d4bb357-dc9c-4307-b498-e90d32cdbbe9",
   "metadata": {
    "tags": []
   },
   "outputs": [
    {
     "name": "stderr",
     "output_type": "stream",
     "text": [
      "/opt/conda/lib/python3.7/site-packages/ipykernel_launcher.py:2: SettingWithCopyWarning: \n",
      "A value is trying to be set on a copy of a slice from a DataFrame.\n",
      "Try using .loc[row_indexer,col_indexer] = value instead\n",
      "\n",
      "See the caveats in the documentation: https://pandas.pydata.org/pandas-docs/stable/user_guide/indexing.html#returning-a-view-versus-a-copy\n",
      "  \n",
      "/opt/conda/lib/python3.7/site-packages/ipykernel_launcher.py:3: SettingWithCopyWarning: \n",
      "A value is trying to be set on a copy of a slice from a DataFrame.\n",
      "Try using .loc[row_indexer,col_indexer] = value instead\n",
      "\n",
      "See the caveats in the documentation: https://pandas.pydata.org/pandas-docs/stable/user_guide/indexing.html#returning-a-view-versus-a-copy\n",
      "  This is separate from the ipykernel package so we can avoid doing imports until\n",
      "/opt/conda/lib/python3.7/site-packages/ipykernel_launcher.py:4: SettingWithCopyWarning: \n",
      "A value is trying to be set on a copy of a slice from a DataFrame.\n",
      "Try using .loc[row_indexer,col_indexer] = value instead\n",
      "\n",
      "See the caveats in the documentation: https://pandas.pydata.org/pandas-docs/stable/user_guide/indexing.html#returning-a-view-versus-a-copy\n",
      "  after removing the cwd from sys.path.\n",
      "/opt/conda/lib/python3.7/site-packages/ipykernel_launcher.py:5: SettingWithCopyWarning: \n",
      "A value is trying to be set on a copy of a slice from a DataFrame.\n",
      "Try using .loc[row_indexer,col_indexer] = value instead\n",
      "\n",
      "See the caveats in the documentation: https://pandas.pydata.org/pandas-docs/stable/user_guide/indexing.html#returning-a-view-versus-a-copy\n",
      "  \"\"\"\n"
     ]
    }
   ],
   "source": [
    "\n",
    "#Convert to datetime format\n",
    "rcc_new_dfn['week_end_date'] = pd.to_datetime(rcc_new_dfn['week_ending_dt'])\n",
    "hcc_new_dfn['week_end_date'] = pd.to_datetime(hcc_new_dfn['week_ending_dt'])\n",
    "dtc_new_dfn['week_end_date'] = pd.to_datetime(dtc_new_dfn['week_ending_dt'])\n",
    "ease_new_dfn['week_end_date'] = pd.to_datetime(ease_new_dfn['week_ending_dt'])\n"
   ]
  },
  {
   "cell_type": "code",
   "execution_count": 15,
   "id": "b404303c-044f-49d7-9707-ac9093200867",
   "metadata": {
    "tags": []
   },
   "outputs": [
    {
     "data": {
      "text/html": [
       "<div>\n",
       "<style scoped>\n",
       "    .dataframe tbody tr th:only-of-type {\n",
       "        vertical-align: middle;\n",
       "    }\n",
       "\n",
       "    .dataframe tbody tr th {\n",
       "        vertical-align: top;\n",
       "    }\n",
       "\n",
       "    .dataframe thead th {\n",
       "        text-align: right;\n",
       "    }\n",
       "</style>\n",
       "<table border=\"1\" class=\"dataframe\">\n",
       "  <thead>\n",
       "    <tr style=\"text-align: right;\">\n",
       "      <th></th>\n",
       "      <th>index</th>\n",
       "      <th>week_ending_dt</th>\n",
       "      <th>EASE_Outs</th>\n",
       "      <th>week_end_date</th>\n",
       "    </tr>\n",
       "  </thead>\n",
       "  <tbody>\n",
       "    <tr>\n",
       "      <th>0</th>\n",
       "      <td>0</td>\n",
       "      <td>2018-01-05</td>\n",
       "      <td>15.50</td>\n",
       "      <td>2018-01-05</td>\n",
       "    </tr>\n",
       "    <tr>\n",
       "      <th>1</th>\n",
       "      <td>1</td>\n",
       "      <td>2018-01-12</td>\n",
       "      <td>41.50</td>\n",
       "      <td>2018-01-12</td>\n",
       "    </tr>\n",
       "    <tr>\n",
       "      <th>2</th>\n",
       "      <td>2</td>\n",
       "      <td>2018-01-19</td>\n",
       "      <td>37.97</td>\n",
       "      <td>2018-01-19</td>\n",
       "    </tr>\n",
       "    <tr>\n",
       "      <th>3</th>\n",
       "      <td>3</td>\n",
       "      <td>2018-01-26</td>\n",
       "      <td>38.96</td>\n",
       "      <td>2018-01-26</td>\n",
       "    </tr>\n",
       "    <tr>\n",
       "      <th>4</th>\n",
       "      <td>4</td>\n",
       "      <td>2018-02-02</td>\n",
       "      <td>69.50</td>\n",
       "      <td>2018-02-02</td>\n",
       "    </tr>\n",
       "    <tr>\n",
       "      <th>...</th>\n",
       "      <td>...</td>\n",
       "      <td>...</td>\n",
       "      <td>...</td>\n",
       "      <td>...</td>\n",
       "    </tr>\n",
       "    <tr>\n",
       "      <th>285</th>\n",
       "      <td>285</td>\n",
       "      <td>2023-06-23</td>\n",
       "      <td>155.50</td>\n",
       "      <td>2023-06-23</td>\n",
       "    </tr>\n",
       "    <tr>\n",
       "      <th>286</th>\n",
       "      <td>286</td>\n",
       "      <td>2023-06-30</td>\n",
       "      <td>195.50</td>\n",
       "      <td>2023-06-30</td>\n",
       "    </tr>\n",
       "    <tr>\n",
       "      <th>287</th>\n",
       "      <td>287</td>\n",
       "      <td>2023-07-07</td>\n",
       "      <td>149.00</td>\n",
       "      <td>2023-07-07</td>\n",
       "    </tr>\n",
       "    <tr>\n",
       "      <th>288</th>\n",
       "      <td>288</td>\n",
       "      <td>2023-07-14</td>\n",
       "      <td>160.50</td>\n",
       "      <td>2023-07-14</td>\n",
       "    </tr>\n",
       "    <tr>\n",
       "      <th>289</th>\n",
       "      <td>289</td>\n",
       "      <td>2023-07-21</td>\n",
       "      <td>0.00</td>\n",
       "      <td>2023-07-21</td>\n",
       "    </tr>\n",
       "  </tbody>\n",
       "</table>\n",
       "<p>290 rows × 4 columns</p>\n",
       "</div>"
      ],
      "text/plain": [
       "     index week_ending_dt  EASE_Outs week_end_date\n",
       "0        0     2018-01-05      15.50    2018-01-05\n",
       "1        1     2018-01-12      41.50    2018-01-12\n",
       "2        2     2018-01-19      37.97    2018-01-19\n",
       "3        3     2018-01-26      38.96    2018-01-26\n",
       "4        4     2018-02-02      69.50    2018-02-02\n",
       "..     ...            ...        ...           ...\n",
       "285    285     2023-06-23     155.50    2023-06-23\n",
       "286    286     2023-06-30     195.50    2023-06-30\n",
       "287    287     2023-07-07     149.00    2023-07-07\n",
       "288    288     2023-07-14     160.50    2023-07-14\n",
       "289    289     2023-07-21       0.00    2023-07-21\n",
       "\n",
       "[290 rows x 4 columns]"
      ]
     },
     "execution_count": 15,
     "metadata": {},
     "output_type": "execute_result"
    }
   ],
   "source": [
    "rcc_sorted_dfn= rcc_new_dfn.sort_values(by='week_end_date')\n",
    "rcc_sorted_dfn.reset_index()\n",
    "\n",
    "hcc_sorted_dfn= hcc_new_dfn.sort_values(by='week_end_date')\n",
    "hcc_sorted_dfn.reset_index()\n",
    "\n",
    "dtc_sorted_dfn= dtc_new_dfn.sort_values(by='week_end_date')\n",
    "dtc_sorted_dfn.reset_index()\n",
    "\n",
    "ease_sorted_dfn= ease_new_dfn.sort_values(by='week_end_date')\n",
    "ease_sorted_dfn.reset_index()"
   ]
  },
  {
   "cell_type": "code",
   "execution_count": 16,
   "id": "523f2129-90f4-4ea4-b136-1a43fd12c05a",
   "metadata": {
    "tags": []
   },
   "outputs": [],
   "source": [
    "rcc_master_dataframe_comm= rcc_sorted_dfn[['week_end_date','RCC_Outs']]\n",
    "hcc_master_dataframe_comm= hcc_sorted_dfn[['week_end_date','HCC_Outs']]\n",
    "dtc_master_dataframe_comm= dtc_sorted_dfn[['week_end_date','DTC_Outs']]\n",
    "ease_master_dataframe_comm= ease_sorted_dfn[['week_end_date','EASE_Outs']]"
   ]
  },
  {
   "cell_type": "code",
   "execution_count": 17,
   "id": "8e1c3740-df08-48eb-84ff-50e1dcbee1cc",
   "metadata": {
    "tags": []
   },
   "outputs": [
    {
     "name": "stderr",
     "output_type": "stream",
     "text": [
      "/opt/conda/lib/python3.7/site-packages/ipykernel_launcher.py:1: SettingWithCopyWarning: \n",
      "A value is trying to be set on a copy of a slice from a DataFrame.\n",
      "Try using .loc[row_indexer,col_indexer] = value instead\n",
      "\n",
      "See the caveats in the documentation: https://pandas.pydata.org/pandas-docs/stable/user_guide/indexing.html#returning-a-view-versus-a-copy\n",
      "  \"\"\"Entry point for launching an IPython kernel.\n",
      "/opt/conda/lib/python3.7/site-packages/ipykernel_launcher.py:2: SettingWithCopyWarning: \n",
      "A value is trying to be set on a copy of a slice from a DataFrame.\n",
      "Try using .loc[row_indexer,col_indexer] = value instead\n",
      "\n",
      "See the caveats in the documentation: https://pandas.pydata.org/pandas-docs/stable/user_guide/indexing.html#returning-a-view-versus-a-copy\n",
      "  \n",
      "/opt/conda/lib/python3.7/site-packages/ipykernel_launcher.py:3: SettingWithCopyWarning: \n",
      "A value is trying to be set on a copy of a slice from a DataFrame.\n",
      "Try using .loc[row_indexer,col_indexer] = value instead\n",
      "\n",
      "See the caveats in the documentation: https://pandas.pydata.org/pandas-docs/stable/user_guide/indexing.html#returning-a-view-versus-a-copy\n",
      "  This is separate from the ipykernel package so we can avoid doing imports until\n",
      "/opt/conda/lib/python3.7/site-packages/ipykernel_launcher.py:4: SettingWithCopyWarning: \n",
      "A value is trying to be set on a copy of a slice from a DataFrame.\n",
      "Try using .loc[row_indexer,col_indexer] = value instead\n",
      "\n",
      "See the caveats in the documentation: https://pandas.pydata.org/pandas-docs/stable/user_guide/indexing.html#returning-a-view-versus-a-copy\n",
      "  after removing the cwd from sys.path.\n"
     ]
    }
   ],
   "source": [
    "rcc_master_dataframe_comm['RCC_Outs'] = rcc_master_dataframe_comm['RCC_Outs'].apply(np.ceil)\n",
    "hcc_master_dataframe_comm['HCC_Outs'] = hcc_master_dataframe_comm['HCC_Outs'].apply(np.ceil)\n",
    "dtc_master_dataframe_comm['DTC_Outs'] = dtc_master_dataframe_comm['DTC_Outs'].apply(np.ceil)\n",
    "ease_master_dataframe_comm['EASE_Outs'] = ease_master_dataframe_comm['EASE_Outs'].apply(np.ceil)"
   ]
  },
  {
   "cell_type": "code",
   "execution_count": 18,
   "id": "fd8d4e88-3cea-47d2-aa5a-8bee2d8a0bbf",
   "metadata": {},
   "outputs": [],
   "source": [
    "rcc_master_dataframe_comm = rcc_master_dataframe_comm.astype({\"RCC_Outs\": int})\n",
    "hcc_master_dataframe_comm = hcc_master_dataframe_comm.astype({\"HCC_Outs\": int})\n",
    "dtc_master_dataframe_comm = dtc_master_dataframe_comm.astype({\"DTC_Outs\": int})\n",
    "ease_master_dataframe_comm = ease_master_dataframe_comm.astype({\"EASE_Outs\": int})"
   ]
  },
  {
   "cell_type": "code",
   "execution_count": 19,
   "id": "059e36bb-6d10-435a-b30a-55b4113f3731",
   "metadata": {},
   "outputs": [],
   "source": [
    "rcc_master_dataframe_cabo = rcc_master_dataframe_comm[['week_end_date','RCC_Outs']]\n",
    "hcc_master_dataframe_cabo = hcc_master_dataframe_comm[['week_end_date','HCC_Outs']]\n",
    "dtc_master_dataframe_cabo = dtc_master_dataframe_comm[['week_end_date','DTC_Outs']]\n",
    "ease_master_dataframe_cabo = ease_master_dataframe_comm[['week_end_date','EASE_Outs']]"
   ]
  },
  {
   "cell_type": "code",
   "execution_count": 20,
   "id": "cb037c25-cf72-4d2d-9bd4-eeb1b663ff61",
   "metadata": {
    "tags": []
   },
   "outputs": [],
   "source": [
    "rcc_master_dataframe_cabo['week_end_date']=pd.to_datetime(rcc_master_dataframe_cabo['week_end_date'])\n",
    "hcc_master_dataframe_cabo['week_end_date']=pd.to_datetime(hcc_master_dataframe_cabo['week_end_date'])\n",
    "dtc_master_dataframe_cabo['week_end_date']=pd.to_datetime(dtc_master_dataframe_cabo['week_end_date'])\n",
    "ease_master_dataframe_cabo['week_end_date']=pd.to_datetime(ease_master_dataframe_cabo['week_end_date'])"
   ]
  },
  {
   "cell_type": "code",
   "execution_count": 21,
   "id": "415d4837-eaba-4ca2-a271-f4f9d129d41e",
   "metadata": {
    "tags": []
   },
   "outputs": [],
   "source": [
    "#Set date column as the index\n",
    "rcc_new_df1 = rcc_master_dataframe_cabo[rcc_master_dataframe_cabo['week_end_date'] > '2021-01-01']\n",
    "hcc_new_df1 = hcc_master_dataframe_cabo[hcc_master_dataframe_cabo['week_end_date'] > '2021-01-01']\n",
    "dtc_new_df1 = dtc_master_dataframe_cabo[dtc_master_dataframe_cabo['week_end_date'] > '2021-01-01']\n",
    "ease_new_df1 = ease_master_dataframe_cabo[ease_master_dataframe_cabo['week_end_date'] > '2021-01-01']"
   ]
  },
  {
   "cell_type": "code",
   "execution_count": 22,
   "id": "4619264e-66d6-4246-9ab7-ab039972b95b",
   "metadata": {
    "tags": []
   },
   "outputs": [],
   "source": [
    "#Set date column as the index\n",
    "rcc_new_df =rcc_new_df1.set_index('week_end_date')\n",
    "hcc_new_df =hcc_new_df1.set_index('week_end_date')\n",
    "dtc_new_df =dtc_new_df1.set_index('week_end_date')\n",
    "ease_new_df =ease_new_df1.set_index('week_end_date')"
   ]
  },
  {
   "cell_type": "code",
   "execution_count": 23,
   "id": "5bd63d27-e7dd-4d42-8e6c-a236a00dc821",
   "metadata": {
    "tags": []
   },
   "outputs": [],
   "source": [
    "rcc_a = rcc_master_dataframe_cabo.tail(1)\n",
    "hcc_a = hcc_master_dataframe_cabo.tail(1)\n",
    "dtc_a = dtc_master_dataframe_cabo.tail(1)\n",
    "ease_a = ease_master_dataframe_cabo.tail(1)"
   ]
  },
  {
   "cell_type": "code",
   "execution_count": 24,
   "id": "1d5bbde6-5970-48b2-8e69-e8d8b6b37d2e",
   "metadata": {
    "tags": []
   },
   "outputs": [],
   "source": [
    "#Training Data Selection\n",
    "\n",
    "rcc_train  = rcc_new_df[(rcc_new_df.index.get_level_values(0) >= rcc_a['week_end_date'].iloc[0] - timedelta(days=736) ) & (rcc_new_df.index.get_level_values(0) < rcc_a['week_end_date'].iloc[0])]\n",
    "\n",
    "hcc_train  = hcc_new_df[(hcc_new_df.index.get_level_values(0) >= hcc_a['week_end_date'].iloc[0] - timedelta(days=736) ) & (hcc_new_df.index.get_level_values(0) < hcc_a['week_end_date'].iloc[0])]\n",
    "\n",
    "dtc_train  = dtc_new_df[(dtc_new_df.index.get_level_values(0) >= dtc_a['week_end_date'].iloc[0] - timedelta(days=736) ) & (dtc_new_df.index.get_level_values(0) < dtc_a['week_end_date'].iloc[0])]\n",
    "\n",
    "ease_train = ease_new_df[(ease_new_df.index.get_level_values(0) >= ease_a['week_end_date'].iloc[0] - timedelta(days=736) ) & (ease_new_df.index.get_level_values(0) < ease_a['week_end_date'].iloc[0])]\n",
    "\n"
   ]
  },
  {
   "cell_type": "code",
   "execution_count": 25,
   "id": "90c7c960-6b2d-462d-93c5-531e08e13c40",
   "metadata": {
    "tags": []
   },
   "outputs": [
    {
     "name": "stdout",
     "output_type": "stream",
     "text": [
      "Performing stepwise search to minimize aic\n",
      " ARIMA(0,1,0)(1,0,1)[52] intercept   : AIC=inf, Time=2.57 sec\n",
      " ARIMA(0,1,0)(0,0,0)[52] intercept   : AIC=1730.130, Time=0.02 sec\n",
      " ARIMA(1,1,0)(1,0,0)[52] intercept   : AIC=1643.876, Time=1.05 sec\n",
      " ARIMA(0,1,1)(0,0,1)[52] intercept   : AIC=1613.477, Time=1.18 sec\n",
      " ARIMA(0,1,0)(0,0,0)[52]             : AIC=1728.216, Time=0.02 sec\n",
      " ARIMA(0,1,1)(0,0,0)[52] intercept   : AIC=1619.300, Time=0.08 sec\n",
      " ARIMA(0,1,1)(1,0,1)[52] intercept   : AIC=inf, Time=2.06 sec\n",
      " ARIMA(0,1,1)(0,0,2)[52] intercept   : AIC=inf, Time=7.64 sec\n",
      " ARIMA(0,1,1)(1,0,0)[52] intercept   : AIC=1609.158, Time=1.12 sec\n",
      " ARIMA(0,1,1)(2,0,0)[52] intercept   : AIC=1603.186, Time=7.94 sec\n",
      " ARIMA(0,1,1)(2,0,1)[52] intercept   : AIC=inf, Time=12.18 sec\n",
      " ARIMA(0,1,0)(2,0,0)[52] intercept   : AIC=inf, Time=4.98 sec\n",
      " ARIMA(1,1,1)(2,0,0)[52] intercept   : AIC=1592.250, Time=9.11 sec\n",
      " ARIMA(1,1,1)(1,0,0)[52] intercept   : AIC=1597.303, Time=1.75 sec\n",
      " ARIMA(1,1,1)(2,0,1)[52] intercept   : AIC=inf, Time=14.79 sec\n",
      " ARIMA(1,1,1)(1,0,1)[52] intercept   : AIC=inf, Time=3.93 sec\n",
      " ARIMA(1,1,0)(2,0,0)[52] intercept   : AIC=inf, Time=5.71 sec\n",
      " ARIMA(2,1,1)(2,0,0)[52] intercept   : AIC=1593.980, Time=10.89 sec\n",
      " ARIMA(1,1,2)(2,0,0)[52] intercept   : AIC=1598.136, Time=19.67 sec\n",
      " ARIMA(0,1,2)(2,0,0)[52] intercept   : AIC=1591.612, Time=9.34 sec\n",
      " ARIMA(0,1,2)(1,0,0)[52] intercept   : AIC=1597.187, Time=1.68 sec\n",
      " ARIMA(0,1,2)(2,0,1)[52] intercept   : AIC=inf, Time=13.81 sec\n",
      " ARIMA(0,1,2)(1,0,1)[52] intercept   : AIC=inf, Time=1.65 sec\n",
      " ARIMA(0,1,3)(2,0,0)[52] intercept   : AIC=1593.530, Time=9.73 sec\n",
      " ARIMA(1,1,3)(2,0,0)[52] intercept   : AIC=inf, Time=14.45 sec\n",
      " ARIMA(0,1,2)(2,0,0)[52]             : AIC=1594.014, Time=4.39 sec\n",
      "\n",
      "Best model:  ARIMA(0,1,2)(2,0,0)[52] intercept\n",
      "Total fit time: 161.959 seconds\n"
     ]
    }
   ],
   "source": [
    "\n",
    "\n",
    "#RCC model\n",
    "rcc_model = pm.auto_arima(rcc_new_df.RCC_Outs.iloc[:-1], \n",
    "                        m=52, seasonal=True,\n",
    "                      start_p=0, start_q=0, max_order=4, test='adf',error_action='ignore',  \n",
    "                           suppress_warnings=True,\n",
    "                      stepwise=True, trace=True)\n",
    "\n"
   ]
  },
  {
   "cell_type": "code",
   "execution_count": 26,
   "id": "e5e6adbb-7c5a-4fc6-ae65-13126bda183e",
   "metadata": {},
   "outputs": [
    {
     "data": {
      "text/plain": [
       "ARIMA(maxiter=50, method='lbfgs', order=(0, 1, 2), out_of_sample_size=0,\n",
       "      scoring='mse', scoring_args={}, seasonal_order=(2, 0, 0, 52),\n",
       "      start_params=None, suppress_warnings=True, trend=None,\n",
       "      with_intercept=True)"
      ]
     },
     "execution_count": 26,
     "metadata": {},
     "output_type": "execute_result"
    }
   ],
   "source": [
    "rcc_model.fit(rcc_train['RCC_Outs'])"
   ]
  },
  {
   "cell_type": "code",
   "execution_count": 27,
   "id": "11be3cfe-b875-4054-9049-7f24f0b5fe1d",
   "metadata": {
    "tags": []
   },
   "outputs": [
    {
     "name": "stderr",
     "output_type": "stream",
     "text": [
      "/opt/conda/lib/python3.7/site-packages/pmdarima/arima/_validation.py:62: UserWarning: m (52) set for non-seasonal fit. Setting to 0\n",
      "  warnings.warn(\"m (%i) set for non-seasonal fit. Setting to 0\" % m)\n"
     ]
    },
    {
     "name": "stdout",
     "output_type": "stream",
     "text": [
      "Performing stepwise search to minimize aic\n",
      " ARIMA(0,1,0)(0,0,0)[0] intercept   : AIC=1202.409, Time=0.07 sec\n",
      " ARIMA(1,1,0)(0,0,0)[0] intercept   : AIC=1156.172, Time=0.06 sec\n",
      " ARIMA(0,1,1)(0,0,0)[0] intercept   : AIC=inf, Time=0.05 sec\n",
      " ARIMA(0,1,0)(0,0,0)[0]             : AIC=1200.414, Time=0.02 sec\n",
      " ARIMA(2,1,0)(0,0,0)[0] intercept   : AIC=1128.907, Time=0.05 sec\n",
      " ARIMA(3,1,0)(0,0,0)[0] intercept   : AIC=1107.339, Time=0.06 sec\n",
      " ARIMA(4,1,0)(0,0,0)[0] intercept   : AIC=1101.228, Time=0.11 sec\n",
      " ARIMA(5,1,0)(0,0,0)[0] intercept   : AIC=1098.416, Time=0.11 sec\n",
      " ARIMA(5,1,1)(0,0,0)[0] intercept   : AIC=1099.186, Time=0.27 sec\n",
      " ARIMA(4,1,1)(0,0,0)[0] intercept   : AIC=1097.209, Time=0.15 sec\n",
      " ARIMA(3,1,1)(0,0,0)[0] intercept   : AIC=1095.210, Time=0.11 sec\n",
      " ARIMA(2,1,1)(0,0,0)[0] intercept   : AIC=1095.599, Time=0.08 sec\n",
      " ARIMA(3,1,2)(0,0,0)[0] intercept   : AIC=1097.209, Time=0.18 sec\n",
      " ARIMA(2,1,2)(0,0,0)[0] intercept   : AIC=1095.956, Time=0.16 sec\n",
      " ARIMA(4,1,2)(0,0,0)[0] intercept   : AIC=1099.206, Time=0.16 sec\n",
      " ARIMA(3,1,1)(0,0,0)[0]             : AIC=1093.627, Time=0.07 sec\n",
      " ARIMA(2,1,1)(0,0,0)[0]             : AIC=1094.018, Time=0.07 sec\n",
      " ARIMA(3,1,0)(0,0,0)[0]             : AIC=1105.540, Time=0.04 sec\n",
      " ARIMA(4,1,1)(0,0,0)[0]             : AIC=1095.625, Time=0.09 sec\n",
      " ARIMA(3,1,2)(0,0,0)[0]             : AIC=1095.625, Time=0.11 sec\n",
      " ARIMA(2,1,0)(0,0,0)[0]             : AIC=1126.992, Time=0.03 sec\n",
      " ARIMA(2,1,2)(0,0,0)[0]             : AIC=1094.355, Time=0.12 sec\n",
      " ARIMA(4,1,0)(0,0,0)[0]             : AIC=1099.537, Time=0.06 sec\n",
      " ARIMA(4,1,2)(0,0,0)[0]             : AIC=1097.623, Time=0.09 sec\n",
      "\n",
      "Best model:  ARIMA(3,1,1)(0,0,0)[0]          \n",
      "Total fit time: 2.365 seconds\n"
     ]
    }
   ],
   "source": [
    "\n",
    "\n",
    "#HCC model\n",
    "hcc_model = pm.auto_arima(hcc_new_df.HCC_Outs.iloc[:-1], \n",
    "                        m=52, seasonal=False,\n",
    "                      start_p=0, start_q=0, max_order=4, test='adf',error_action='ignore',  \n",
    "                           suppress_warnings=True,\n",
    "                      stepwise=True, trace=True)\n",
    "\n"
   ]
  },
  {
   "cell_type": "code",
   "execution_count": 28,
   "id": "fd4dd212-f855-4ac7-a060-7a1c9294c97b",
   "metadata": {},
   "outputs": [
    {
     "data": {
      "text/plain": [
       "ARIMA(maxiter=50, method='lbfgs', order=(3, 1, 1), out_of_sample_size=0,\n",
       "      scoring='mse', scoring_args={}, seasonal_order=(0, 0, 0, 0),\n",
       "      start_params=None, suppress_warnings=True, trend=None,\n",
       "      with_intercept=False)"
      ]
     },
     "execution_count": 28,
     "metadata": {},
     "output_type": "execute_result"
    }
   ],
   "source": [
    "hcc_model.fit(hcc_train['HCC_Outs'])"
   ]
  },
  {
   "cell_type": "code",
   "execution_count": 29,
   "id": "a481225e-47c8-4bb9-9eb4-35db393b40f3",
   "metadata": {
    "tags": []
   },
   "outputs": [
    {
     "name": "stdout",
     "output_type": "stream",
     "text": [
      "Performing stepwise search to minimize aic\n",
      " ARIMA(0,1,0)(1,0,1)[52] intercept   : AIC=1062.923, Time=1.15 sec\n",
      " ARIMA(0,1,0)(0,0,0)[52] intercept   : AIC=1059.446, Time=0.02 sec\n",
      " ARIMA(1,1,0)(1,0,0)[52] intercept   : AIC=1019.707, Time=0.49 sec\n",
      " ARIMA(0,1,1)(0,0,1)[52] intercept   : AIC=973.999, Time=0.63 sec\n",
      " ARIMA(0,1,0)(0,0,0)[52]             : AIC=1057.526, Time=0.02 sec\n",
      " ARIMA(0,1,1)(0,0,0)[52] intercept   : AIC=972.003, Time=0.06 sec\n",
      " ARIMA(0,1,1)(1,0,0)[52] intercept   : AIC=973.999, Time=0.66 sec\n",
      " ARIMA(0,1,1)(1,0,1)[52] intercept   : AIC=976.003, Time=0.91 sec\n",
      " ARIMA(1,1,1)(0,0,0)[52] intercept   : AIC=972.462, Time=0.07 sec\n",
      " ARIMA(0,1,2)(0,0,0)[52] intercept   : AIC=972.145, Time=0.09 sec\n",
      " ARIMA(1,1,0)(0,0,0)[52] intercept   : AIC=1017.721, Time=0.04 sec\n",
      " ARIMA(1,1,2)(0,0,0)[52] intercept   : AIC=972.448, Time=0.10 sec\n",
      " ARIMA(0,1,1)(0,0,0)[52]             : AIC=980.095, Time=0.03 sec\n",
      "\n",
      "Best model:  ARIMA(0,1,1)(0,0,0)[52] intercept\n",
      "Total fit time: 4.297 seconds\n"
     ]
    }
   ],
   "source": [
    "\n",
    "\n",
    "#DTC model\n",
    "dtc_model = pm.auto_arima(dtc_new_df.DTC_Outs.iloc[:-1], \n",
    "                        m=52, seasonal=True,\n",
    "                      start_p=0, start_q=0, max_order=4, test='adf',error_action='ignore',  \n",
    "                           suppress_warnings=True,\n",
    "                      stepwise=True, trace=True)\n",
    "\n"
   ]
  },
  {
   "cell_type": "code",
   "execution_count": 30,
   "id": "1fc5a92f-2ce4-496b-8017-99e8799f7e8a",
   "metadata": {},
   "outputs": [
    {
     "data": {
      "text/plain": [
       "ARIMA(maxiter=50, method='lbfgs', order=(0, 1, 1), out_of_sample_size=0,\n",
       "      scoring='mse', scoring_args={}, seasonal_order=(0, 0, 0, 52),\n",
       "      start_params=None, suppress_warnings=True, trend=None,\n",
       "      with_intercept=True)"
      ]
     },
     "execution_count": 30,
     "metadata": {},
     "output_type": "execute_result"
    }
   ],
   "source": [
    "dtc_model.fit(dtc_train['DTC_Outs'])"
   ]
  },
  {
   "cell_type": "code",
   "execution_count": 31,
   "id": "50aee15d-889f-4e5d-9f19-2007dc0ebcb8",
   "metadata": {
    "tags": []
   },
   "outputs": [
    {
     "name": "stdout",
     "output_type": "stream",
     "text": [
      "Performing stepwise search to minimize aic\n",
      " ARIMA(0,0,0)(1,0,1)[52] intercept   : AIC=inf, Time=2.24 sec\n",
      " ARIMA(0,0,0)(0,0,0)[52] intercept   : AIC=1245.966, Time=0.02 sec\n",
      " ARIMA(1,0,0)(1,0,0)[52] intercept   : AIC=1209.940, Time=1.93 sec\n",
      " ARIMA(0,0,1)(0,0,1)[52] intercept   : AIC=1220.775, Time=0.91 sec\n",
      " ARIMA(0,0,0)(0,0,0)[52]             : AIC=1649.163, Time=0.02 sec\n",
      " ARIMA(1,0,0)(0,0,0)[52] intercept   : AIC=1217.780, Time=0.02 sec\n",
      " ARIMA(1,0,0)(2,0,0)[52] intercept   : AIC=1210.914, Time=9.32 sec\n",
      " ARIMA(1,0,0)(1,0,1)[52] intercept   : AIC=1210.922, Time=1.17 sec\n",
      " ARIMA(1,0,0)(0,0,1)[52] intercept   : AIC=1208.940, Time=0.94 sec\n",
      " ARIMA(1,0,0)(0,0,2)[52] intercept   : AIC=1210.914, Time=5.61 sec\n",
      " ARIMA(1,0,0)(1,0,2)[52] intercept   : AIC=1212.914, Time=4.78 sec\n",
      " ARIMA(0,0,0)(0,0,1)[52] intercept   : AIC=1239.028, Time=0.48 sec\n",
      " ARIMA(2,0,0)(0,0,1)[52] intercept   : AIC=1200.622, Time=1.50 sec\n",
      " ARIMA(2,0,0)(0,0,0)[52] intercept   : AIC=1207.093, Time=0.08 sec\n",
      " ARIMA(2,0,0)(1,0,1)[52] intercept   : AIC=1202.592, Time=1.47 sec\n",
      " ARIMA(2,0,0)(0,0,2)[52] intercept   : AIC=1202.571, Time=7.80 sec\n",
      " ARIMA(2,0,0)(1,0,0)[52] intercept   : AIC=1201.446, Time=2.10 sec\n",
      " ARIMA(2,0,0)(1,0,2)[52] intercept   : AIC=1204.571, Time=6.77 sec\n",
      " ARIMA(3,0,0)(0,0,1)[52] intercept   : AIC=1194.824, Time=1.96 sec\n",
      " ARIMA(3,0,0)(0,0,0)[52] intercept   : AIC=1203.408, Time=0.15 sec\n",
      " ARIMA(3,0,0)(1,0,1)[52] intercept   : AIC=1196.335, Time=3.28 sec\n",
      " ARIMA(3,0,0)(0,0,2)[52] intercept   : AIC=1196.330, Time=7.65 sec\n",
      " ARIMA(3,0,0)(1,0,0)[52] intercept   : AIC=1194.362, Time=2.57 sec\n",
      " ARIMA(3,0,0)(2,0,0)[52] intercept   : AIC=1196.335, Time=11.86 sec\n",
      " ARIMA(3,0,0)(2,0,1)[52] intercept   : AIC=inf, Time=13.57 sec\n",
      " ARIMA(4,0,0)(1,0,0)[52] intercept   : AIC=1187.829, Time=3.53 sec\n",
      " ARIMA(4,0,0)(0,0,0)[52] intercept   : AIC=1197.327, Time=0.21 sec\n",
      " ARIMA(4,0,0)(2,0,0)[52] intercept   : AIC=1189.771, Time=13.14 sec\n",
      " ARIMA(4,0,0)(1,0,1)[52] intercept   : AIC=1189.847, Time=3.85 sec\n",
      " ARIMA(4,0,0)(0,0,1)[52] intercept   : AIC=1188.808, Time=2.58 sec\n",
      " ARIMA(4,0,0)(2,0,1)[52] intercept   : AIC=inf, Time=15.34 sec\n",
      " ARIMA(5,0,0)(1,0,0)[52] intercept   : AIC=1188.931, Time=3.80 sec\n",
      " ARIMA(4,0,1)(1,0,0)[52] intercept   : AIC=1188.056, Time=4.00 sec\n",
      " ARIMA(3,0,1)(1,0,0)[52] intercept   : AIC=1188.260, Time=3.29 sec\n",
      " ARIMA(5,0,1)(1,0,0)[52] intercept   : AIC=1190.599, Time=4.32 sec\n",
      " ARIMA(4,0,0)(1,0,0)[52]             : AIC=inf, Time=1.15 sec\n",
      "\n",
      "Best model:  ARIMA(4,0,0)(1,0,0)[52] intercept\n",
      "Total fit time: 143.574 seconds\n"
     ]
    }
   ],
   "source": [
    "\n",
    "#EASE model\n",
    "ease_model = pm.auto_arima(ease_new_df.EASE_Outs.iloc[:-1], \n",
    "                        m=52, seasonal=True,\n",
    "                      start_p=0, start_q=0, max_order=4, test='adf',error_action='ignore',  \n",
    "                           suppress_warnings=True,\n",
    "                      stepwise=True, trace=True)\n",
    "\n"
   ]
  },
  {
   "cell_type": "code",
   "execution_count": 32,
   "id": "a6c35a5e-5504-430f-9acb-062347c8d4b8",
   "metadata": {
    "tags": []
   },
   "outputs": [
    {
     "data": {
      "text/plain": [
       "ARIMA(maxiter=50, method='lbfgs', order=(4, 0, 0), out_of_sample_size=0,\n",
       "      scoring='mse', scoring_args={}, seasonal_order=(1, 0, 0, 52),\n",
       "      start_params=None, suppress_warnings=True, trend=None,\n",
       "      with_intercept=True)"
      ]
     },
     "execution_count": 32,
     "metadata": {},
     "output_type": "execute_result"
    }
   ],
   "source": [
    "ease_model.fit(ease_train['EASE_Outs'])\n"
   ]
  },
  {
   "cell_type": "code",
   "execution_count": 33,
   "id": "001d36c5-b9b1-47b5-8ee6-63b49754e5a7",
   "metadata": {
    "tags": []
   },
   "outputs": [],
   "source": [
    "\n",
    "rcc_forecast =rcc_model.predict(n_periods=52, return_conf_int=True)\n",
    "hcc_forecast =hcc_model.predict(n_periods=52, return_conf_int=True)\n",
    "dtc_forecast =dtc_model.predict(n_periods=52, return_conf_int=True)\n",
    "ease_forecast =ease_model.predict(n_periods=52, return_conf_int=True)\n",
    "\n"
   ]
  },
  {
   "cell_type": "code",
   "execution_count": 34,
   "id": "f725c230-dfcd-454e-9af1-a94516b9d245",
   "metadata": {
    "tags": []
   },
   "outputs": [],
   "source": [
    "from datetime import date\n",
    "a = date(date.today().year, 1, 1)"
   ]
  },
  {
   "cell_type": "code",
   "execution_count": 35,
   "id": "6e57219e-c88f-497a-9694-6992b729ac82",
   "metadata": {
    "tags": []
   },
   "outputs": [],
   "source": [
    "\n",
    "rcc_forecast_range=pd.date_range(start=a, periods=52, freq='W-FRI')\n",
    "hcc_forecast_range=pd.date_range(start=a, periods=52, freq='W-FRI')\n",
    "dtc_forecast_range=pd.date_range(start=a, periods=52, freq='W-FRI')\n",
    "ease_forecast_range=pd.date_range(start=a, periods=52, freq='W-FRI')\n",
    "\n"
   ]
  },
  {
   "cell_type": "code",
   "execution_count": 36,
   "id": "c5d685ae-20bd-43cb-a225-a24140f40b27",
   "metadata": {
    "tags": []
   },
   "outputs": [],
   "source": [
    "\n",
    "rcc_forecast_df = pd.DataFrame(rcc_forecast[0],index= rcc_forecast_range, columns=['Predictions'])\n",
    "rcc_forecast_df.dropna(inplace=True)\n",
    "hcc_forecast_df = pd.DataFrame(hcc_forecast[0],index= hcc_forecast_range, columns=['Predictions'])\n",
    "hcc_forecast_df.dropna(inplace=True)\n",
    "dtc_forecast_df = pd.DataFrame(dtc_forecast[0],index= dtc_forecast_range, columns=['Predictions'])\n",
    "dtc_forecast_df.dropna(inplace=True)\n",
    "ease_forecast_df = pd.DataFrame(ease_forecast[0],index= ease_forecast_range, columns=['Predictions'])\n",
    "ease_forecast_df.dropna(inplace=True)\n"
   ]
  },
  {
   "cell_type": "code",
   "execution_count": 37,
   "id": "4039b384-f662-4201-ad86-6819f770f388",
   "metadata": {
    "tags": []
   },
   "outputs": [],
   "source": [
    "\n",
    "rcc_future_forecasts= pd.concat([rcc_new_df['RCC_Outs'].iloc[:-1],rcc_forecast_df],axis=1)\n",
    "hcc_future_forecasts= pd.concat([hcc_new_df['HCC_Outs'].iloc[:-1],hcc_forecast_df],axis=1)\n",
    "dtc_future_forecasts= pd.concat([dtc_new_df['DTC_Outs'].iloc[:-1],dtc_forecast_df],axis=1)\n",
    "ease_future_forecasts= pd.concat([ease_new_df['EASE_Outs'].iloc[:-1],ease_forecast_df],axis=1)\n"
   ]
  },
  {
   "cell_type": "code",
   "execution_count": 38,
   "id": "45b6cc5a-3a59-4bfe-875a-7744d494f2c2",
   "metadata": {
    "tags": []
   },
   "outputs": [
    {
     "data": {
      "text/html": [
       "<div>\n",
       "<style scoped>\n",
       "    .dataframe tbody tr th:only-of-type {\n",
       "        vertical-align: middle;\n",
       "    }\n",
       "\n",
       "    .dataframe tbody tr th {\n",
       "        vertical-align: top;\n",
       "    }\n",
       "\n",
       "    .dataframe thead th {\n",
       "        text-align: right;\n",
       "    }\n",
       "</style>\n",
       "<table border=\"1\" class=\"dataframe\">\n",
       "  <thead>\n",
       "    <tr style=\"text-align: right;\">\n",
       "      <th></th>\n",
       "      <th>RCC_Outs</th>\n",
       "      <th>Predictions</th>\n",
       "    </tr>\n",
       "  </thead>\n",
       "  <tbody>\n",
       "    <tr>\n",
       "      <th>2021-01-08</th>\n",
       "      <td>978.0</td>\n",
       "      <td>NaN</td>\n",
       "    </tr>\n",
       "    <tr>\n",
       "      <th>2021-01-15</th>\n",
       "      <td>898.0</td>\n",
       "      <td>NaN</td>\n",
       "    </tr>\n",
       "    <tr>\n",
       "      <th>2021-01-22</th>\n",
       "      <td>759.0</td>\n",
       "      <td>NaN</td>\n",
       "    </tr>\n",
       "    <tr>\n",
       "      <th>2021-01-29</th>\n",
       "      <td>909.0</td>\n",
       "      <td>NaN</td>\n",
       "    </tr>\n",
       "    <tr>\n",
       "      <th>2021-02-05</th>\n",
       "      <td>968.0</td>\n",
       "      <td>NaN</td>\n",
       "    </tr>\n",
       "  </tbody>\n",
       "</table>\n",
       "</div>"
      ],
      "text/plain": [
       "            RCC_Outs  Predictions\n",
       "2021-01-08     978.0          NaN\n",
       "2021-01-15     898.0          NaN\n",
       "2021-01-22     759.0          NaN\n",
       "2021-01-29     909.0          NaN\n",
       "2021-02-05     968.0          NaN"
      ]
     },
     "execution_count": 38,
     "metadata": {},
     "output_type": "execute_result"
    }
   ],
   "source": [
    "rcc_future_forecasts.head()"
   ]
  },
  {
   "cell_type": "code",
   "execution_count": 39,
   "id": "c25ce449-affd-4f7c-a6c6-b6b143b6a8be",
   "metadata": {
    "tags": []
   },
   "outputs": [],
   "source": [
    "s_e=rcc_train\n",
    "s_e=s_e.reset_index()\n",
    "s= s_e.head(1)\n",
    "e= s_e.tail(1)"
   ]
  },
  {
   "cell_type": "code",
   "execution_count": 40,
   "id": "b5c47237-2a9d-457e-9410-8c75c2be7198",
   "metadata": {},
   "outputs": [],
   "source": [
    "\n",
    "rcc_future_forecasts['Forecast_totals'] = rcc_future_forecasts.fillna(0)['RCC_Outs'] + rcc_future_forecasts.fillna(0)['Predictions']\n",
    "hcc_future_forecasts['Forecast_totals'] = hcc_future_forecasts.fillna(0)['HCC_Outs'] + hcc_future_forecasts.fillna(0)['Predictions']\n",
    "dtc_future_forecasts['Forecast_totals'] = dtc_future_forecasts.fillna(0)['DTC_Outs'] + dtc_future_forecasts.fillna(0)['Predictions']\n",
    "ease_future_forecasts['Forecast_totals'] = ease_future_forecasts.fillna(0)['EASE_Outs'] + ease_future_forecasts.fillna(0)['Predictions']\n",
    "\n"
   ]
  },
  {
   "cell_type": "code",
   "execution_count": 41,
   "id": "cf9ba0a9-cbba-4c2c-aaf9-47fc46cf09bd",
   "metadata": {
    "tags": []
   },
   "outputs": [],
   "source": [
    "#RCC\n",
    "\n",
    "rcc_df_Fut = rcc_future_forecasts.reset_index()\n",
    "rcc_df_Fut.rename(columns = {'index':'Date'}, inplace = True)\n",
    "rcc_df_Fut['Year'] = pd.PeriodIndex(rcc_df_Fut.Date, freq='Y')\n",
    "rcc_df_Fut['Quarter'] = rcc_df_Fut.Date.dt.quarter\n",
    "weekend= rcc_master_dataframe_cabo.tail(2)\n",
    "rcc_df_Fut['Week_Ending_date'] = weekend['week_end_date'].iloc[0]\n",
    "rcc_df_Fut['Training_Start_date'] = s['week_end_date'].iloc[0]\n",
    "rcc_df_Fut['Training_End_date'] = e['week_end_date'].iloc[0]\n",
    "rcc_df_Fut['Sales_Type'] = 'COMMERCIAL'\n",
    "rcc_df_Fut['Model_Type'] = 'RCC-ARIMA'\n",
    "\n"
   ]
  },
  {
   "cell_type": "code",
   "execution_count": 42,
   "id": "d968aa1b-4cf0-403c-9cdd-7e2014fee12c",
   "metadata": {
    "tags": []
   },
   "outputs": [],
   "source": [
    "#HCC\n",
    "\n",
    "hcc_df_Fut = hcc_future_forecasts.reset_index()\n",
    "hcc_df_Fut.rename(columns = {'index':'Date'}, inplace = True)\n",
    "hcc_df_Fut['Year'] = pd.PeriodIndex(hcc_df_Fut.Date, freq='Y')\n",
    "hcc_df_Fut['Quarter'] = hcc_df_Fut.Date.dt.quarter\n",
    "weekend= hcc_master_dataframe_cabo.tail(2)\n",
    "hcc_df_Fut['Week_Ending_date'] = weekend['week_end_date'].iloc[0]\n",
    "hcc_df_Fut['Training_Start_date'] = s['week_end_date'].iloc[0]\n",
    "hcc_df_Fut['Training_End_date'] = e['week_end_date'].iloc[0]\n",
    "hcc_df_Fut['Sales_Type'] = 'COMMERCIAL'\n",
    "hcc_df_Fut['Model_Type'] = 'HCC-ARIMA'\n",
    "\n"
   ]
  },
  {
   "cell_type": "code",
   "execution_count": 43,
   "id": "d32a8738-9e45-41a6-8c16-4aa3c27134fa",
   "metadata": {
    "tags": []
   },
   "outputs": [],
   "source": [
    "#DTC\n",
    "\n",
    "dtc_df_Fut = dtc_future_forecasts.reset_index()\n",
    "dtc_df_Fut.rename(columns = {'index':'Date'}, inplace = True)\n",
    "dtc_df_Fut['Year'] = pd.PeriodIndex(dtc_df_Fut.Date, freq='Y')\n",
    "dtc_df_Fut['Quarter'] = dtc_df_Fut.Date.dt.quarter\n",
    "weekend= dtc_master_dataframe_cabo.tail(2)\n",
    "dtc_df_Fut['Week_Ending_date'] = weekend['week_end_date'].iloc[0]\n",
    "dtc_df_Fut['Training_Start_date'] = s['week_end_date'].iloc[0]\n",
    "dtc_df_Fut['Training_End_date'] = e['week_end_date'].iloc[0]\n",
    "dtc_df_Fut['Sales_Type'] = 'COMMERCIAL'\n",
    "dtc_df_Fut['Model_Type'] = 'DTC-ARIMA'\n",
    "\n"
   ]
  },
  {
   "cell_type": "code",
   "execution_count": 44,
   "id": "af945892-68e5-4da3-b689-1de6260c4d27",
   "metadata": {
    "tags": []
   },
   "outputs": [],
   "source": [
    "#EASE\n",
    "\n",
    "ease_df_Fut = ease_future_forecasts.reset_index()\n",
    "ease_df_Fut.rename(columns = {'index':'Date'}, inplace = True)\n",
    "ease_df_Fut['Year'] = pd.PeriodIndex(ease_df_Fut.Date, freq='Y')\n",
    "ease_df_Fut['Quarter'] = ease_df_Fut.Date.dt.quarter\n",
    "weekend= ease_master_dataframe_cabo.tail(2)\n",
    "ease_df_Fut['Week_Ending_date'] = weekend['week_end_date'].iloc[0]\n",
    "ease_df_Fut['Training_Start_date'] = s['week_end_date'].iloc[0]\n",
    "ease_df_Fut['Training_End_date'] = e['week_end_date'].iloc[0]\n",
    "ease_df_Fut['Sales_Type'] = 'EASE'\n",
    "ease_df_Fut['Model_Type'] = 'EASE-ARIMA'\n",
    "\n"
   ]
  },
  {
   "cell_type": "code",
   "execution_count": 45,
   "id": "8f86bfe5-c8cf-48c3-a31f-9c4b035a18d5",
   "metadata": {
    "tags": []
   },
   "outputs": [],
   "source": [
    "\n",
    "rcc_hcc_one = rcc_df_Fut.append(hcc_df_Fut)\n",
    "rcc_hcc_dtc = rcc_hcc_one.append(dtc_df_Fut)\n",
    "all_one = rcc_hcc_dtc.append(ease_df_Fut)\n",
    "\n"
   ]
  },
  {
   "cell_type": "code",
   "execution_count": 46,
   "id": "dfe38837-c72b-49a4-ac8c-bdb1b7be44a4",
   "metadata": {
    "tags": []
   },
   "outputs": [],
   "source": [
    "final_df= all_one[['Date','Year','Quarter','Week_Ending_date','Sales_Type','Model_Type','Training_Start_date','Training_End_date','RCC_Outs','HCC_Outs','DTC_Outs','EASE_Outs','Predictions','Forecast_totals']]"
   ]
  },
  {
   "cell_type": "code",
   "execution_count": 47,
   "id": "347a3eae-7183-4bf2-95c8-d388d0e726fe",
   "metadata": {},
   "outputs": [],
   "source": [
    "final_df.reset_index(drop=True, inplace=True)"
   ]
  },
  {
   "cell_type": "code",
   "execution_count": 48,
   "id": "ce872069-3a61-4e9b-9345-b398fc8b54e7",
   "metadata": {
    "tags": []
   },
   "outputs": [],
   "source": [
    "s_e=final_df\n",
    "s_e=s_e.reset_index()\n",
    "e= s_e.Week_Ending_date.iloc[0]"
   ]
  },
  {
   "cell_type": "code",
   "execution_count": 49,
   "id": "1a7660e1-6c3a-4a8b-bb7c-e18684a810da",
   "metadata": {
    "tags": []
   },
   "outputs": [],
   "source": [
    "file_name_1 = \"ARIMA_Forecast.csv\"\n",
    "final_df.to_csv(file_name_1,index=False)"
   ]
  },
  {
   "cell_type": "code",
   "execution_count": 50,
   "id": "8e2c6b78-edae-4ff5-b8eb-dc49635bcc26",
   "metadata": {
    "tags": []
   },
   "outputs": [],
   "source": [
    "a = 'ARIMA_Forecasts.csv'\n",
    "b = str(e)"
   ]
  },
  {
   "cell_type": "code",
   "execution_count": 51,
   "id": "aed58227-ee8a-4075-adda-91a8c3ccb416",
   "metadata": {},
   "outputs": [],
   "source": [
    "s3 = boto3.resource('s3')\n",
    "s3.meta.client.upload_file(file_name_1, 'forecastingpoc', 'inputfiles/'+b+' - '+a)"
   ]
  },
  {
   "cell_type": "code",
   "execution_count": null,
   "id": "bac4f200-39e5-4414-bb53-c9d8173a50b6",
   "metadata": {},
   "outputs": [],
   "source": []
  }
 ],
 "metadata": {
  "instance_type": "ml.g4dn.xlarge",
  "kernelspec": {
   "display_name": "Python 3 (Data Science)",
   "language": "python",
   "name": "python3__SAGEMAKER_INTERNAL__arn:aws:sagemaker:us-west-2:236514542706:image/datascience-1.0"
  },
  "language_info": {
   "codemirror_mode": {
    "name": "ipython",
    "version": 3
   },
   "file_extension": ".py",
   "mimetype": "text/x-python",
   "name": "python",
   "nbconvert_exporter": "python",
   "pygments_lexer": "ipython3",
   "version": "3.7.10"
  }
 },
 "nbformat": 4,
 "nbformat_minor": 5
}
